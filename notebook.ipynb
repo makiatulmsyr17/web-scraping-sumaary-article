{
 "cells": [
  {
   "cell_type": "markdown",
   "metadata": {},
   "source": [
    "# LIVE DEMO Data Gathering with AI assistant"
   ]
  },
  {
   "cell_type": "code",
   "execution_count": null,
   "metadata": {},
   "outputs": [],
   "source": [
    "# TODO get prompt from chat gpt to scrap google news\n",
    "# TODO get article tittle and link\n",
    "# TODO summary article with AI Studio"
   ]
  },
  {
   "cell_type": "markdown",
   "metadata": {},
   "source": [
    "### try with bs4"
   ]
  },
  {
   "cell_type": "code",
   "execution_count": 57,
   "metadata": {},
   "outputs": [],
   "source": [
    "import requests\n",
    "from bs4 import BeautifulSoup\n",
    "import pandas as pd"
   ]
  },
  {
   "cell_type": "code",
   "execution_count": 30,
   "metadata": {},
   "outputs": [],
   "source": [
    "# URL Google Search\n",
    "url = \"https://www.google.com/search?q=tren+pasar+laptop+2025&rlz=1C1ONGR_enID1087ID1087&oq=tren+pasar+laptop+2025&gs_lcrp=EgZjaHJvbWUyBggAEEUYOTIHCAEQIRigAdIBCDY5NTdqMGo3qAIIsAIB&sourceid=chrome&ie=UTF-8\"\n",
    "\n",
    "# Headers to simulate a browser visit\n",
    "headers = {\n",
    "    \"User-Agent\": \"Mozilla/5.0 (Windows NT 10.0; Win64; x64) AppleWebKit/537.36 (KHTML, like Gecko) Chrome/114.0.0.0 Safari/537.36\"\n",
    "}"
   ]
  },
  {
   "cell_type": "code",
   "execution_count": null,
   "metadata": {},
   "outputs": [],
   "source": [
    "# Send request\n",
    "response = requests.get(url, headers=headers)\n",
    "\n",
    "# Check if response is successful\n",
    "if response.status_code == 200:\n",
    "    print(\"Request successful!\")\n",
    "else:\n",
    "    print(f\"Request failed with status code: {response.status_code}\")"
   ]
  },
  {
   "cell_type": "code",
   "execution_count": 33,
   "metadata": {},
   "outputs": [],
   "source": [
    "soup = BeautifulSoup(response.text, \"html.parser\")"
   ]
  },
  {
   "cell_type": "code",
   "execution_count": 34,
   "metadata": {},
   "outputs": [
    {
     "name": "stdout",
     "output_type": "stream",
     "text": [
      "<!DOCTYPE html>\n",
      "<html lang=\"id\">\n",
      " <head>\n",
      "  <title>\n",
      "   Google Search\n",
      "  </title>\n",
      "  <style>\n",
      "   body{background-color:var(--xhUGwc)}\n",
      "  </style>\n",
      " </head>\n",
      " <body>\n",
      "  <noscript>\n",
      "   <style>\n",
      "    table,div,span,p{display:none}\n",
      "   </style>\n",
      "   <meta content=\"0;url=/httpservice/retry/enablejs?sei=oh6LZ-PtK66QseMPsM6LoAE\" http-equiv=\"refresh\"/>\n",
      "   <div style=\"display:block\">\n",
      "    Klik\n",
      "    <a href=\"/httpservice/retry/enablejs?sei=oh6LZ-PtK66QseMPsM6LoAE\">\n",
      "     di sini\n",
      "    </a>\n",
      "    jika Anda tak dialihkan dalam beberapa detik.\n",
      "   </div>\n",
      "  </noscript>\n",
      "  <script nonce=\"1oRuC9NOf7QuJkERXFvQRg\">\n",
      "   //# sourceMappingURL=data:application/json;charset=utf-8;base64,eyJ2ZXJzaW9uIjogMywic291cmNlcyI6WyIiXSwic291cmNlc0NvbnRlbnQiOlsiICJdLCJuYW1lcyI6WyJjbG9zdXJlRHluYW1pY0J1dHRvbiJdLCJtYXBwaW5ncyI6IkFBQUE7QUFBQTtBQUFBO0FBQUE7QUFBQTtBQUFBO0FBQUEifQ==\n",
      "(function(){function n(e){return e}var b=function(e,p,Z,R,m,W,S,v,d,r,D,F){for(F=(r=79,Z);;)try{if(r==e)break;else if(r==4)F=Z,r=72;else if(r==15)F=0,v=d.createPolicy(m,{createHTML:L,createScript:L,createScriptURL:L}),r=75;else{if(r==p)return v;if(r==72)r=z.console?R:75;else{if(r==75)return F=Z,v;r==56?r=d&&d.createPolicy?15:p:r==79?(v=W,d=z.trustedTypes,r=56):r==R&&(z.console[S](D.message),r=75)}}}catch(c){if(F==Z)throw c;F==0&&(D=c,r=4)}},z=this||self,L=function(e){return n.call(this,e)};(0,eval)(function(e,p){return(p=b(94,37,39,91,\"ks\",null,\"error\"))&&e.eval(p.createScript(\"1\"))===1?function(Z){return p.createScript(Z)}:function(Z){return\"\"+Z}}(z)(Array(Math.random()*7824|0).join(\"\\n\")+['//# sourceMappingURL=data:application/json;charset=utf-8;base64,eyJ2ZXJzaW9uIjogMywic291cmNlcyI6WyIiXSwic291cmNlc0NvbnRlbnQiOlsiICJdLCJuYW1lcyI6WyJjbG9zdXJlRHluYW1pY0J1dHRvbiJdLCJtYXBwaW5ncyI6IkFBQUE7QUFBQTtBQUFBO0FBQUE7QUFBQTtBQUFBO0FBQUEifQ==',\n",
      "'(function(){/*',\n",
      "'',\n",
      "' Copyright Google LLC',\n",
      "' SPDX-License-Identifier: Apache-2.0',\n",
      "'*/',\n",
      "'var pN=function(Z,p,r,e,F,d,v,L,D,n,W,c){for(W=79;W!=94;)if(W==79)W=56;else if(W==56)W=(p|9)>=-85&&(p<<2&7)<1?37:15;else{if(W==75)return c;if(W==0){if(F.G.length){F.cM=(F.Td=!(F.Td&&\":TQR:TQR:\"(),0),e);try{v=F.I(),F.gs=r,F.nP=v,F.bo=v,F.Wt=r,L=e1(23,2,Z,\"load\",null,F,e),D=d?0:10,n=F.I()-F.nP,F.Bt+=n,F.kw&&F.kw(n-F.S,F.Y,F.U,F.Wt),F.U=false,F.S=r,F.Y=false,n<D||F.tM--<=r||(n=Math.floor(n),F.hM.push(n<=254?n:254))}finally{F.Td=false}c=L}W=75}else W==37?(c=this.n===0?0:Math.sqrt(this.OK/this.n),W=15):W==15&&(W=(p&107)==p?0:75)}},H=function(Z,p,r,e,F,d,v,L,D,n){for(n=56;n!=74;)if(n==4)n=(Z+1&6)==2?33:65;else if(n==33)r.io&&r.io.forEach(p,void 0),n=65;else if(n==54){for(F in d=p,e.H){for(v=e.H[L=p,F];L<v.length;L++)++d,FV(24,75,r,v[L]);delete e.H[e.ct--,F]}n=26}else if(n==26)n=Z-6<44&&(Z|2)>=28?30:32;else if(n==65)n=(Z&109)==Z?54:26;else if(n==2)n=((Z|6)&16)<6&&Z-2>>4>=3?78:4;else if(n==30)typeof p===\"function\"?D=p:(p[vu]||(p[vu]=function(W){return p.handleEvent(W)}),D=p[vu]),n=32;else if(n==56)n=2;else if(n==78)F=dD(p,1,43,r,e),(d=F>=p)&&Array.prototype.splice.call(r,F,1),D=d,n=4;else if(n==32)return D},Rr=function(Z,p,r,e,F,d,v){for(F=41;F!=81;)if(F==Z)F=p+3>>4?57:11;else if(F==41)F=Z;else{if(F==36)return d;F==93?(e=r[$O],d=e instanceof nN?e:null,F=36):F==57?F=(p-9|28)>=p&&(p+2^27)<p?93:36:F==11&&(v=function(L){return r.call(v.src,v.listener,L)},r=sz,d=v,F=57)}},Wu=function(Z,p,r,e,F,d,v,L,D,n,W){for(D=1;D!=41;)if(D==59)D=(p+9&76)>=p&&p+2>>1<p?45:Z;else if(D==77)n=function(){},v=void 0,F=DY(r,function(c,m){for(m=47;m!=16;)m==47?m=n?70:16:m==70&&(e&&cu(e),v=c,n(),n=void 0,m=16)},!!e),L=F[1],d=F[0],W={top:function(c,m,z,R,O,f,b){for(b=74;b!=72;){if(b==76)return O=d(z),c&&c(O),O;b==67?(R=n,n=function(){(R(),cu)(f)},b=72):b==28?b=v?88:67:b==88?(f(),b=72):b==48?b=m?28:76:b==74&&(f=function(){v(function(A){cu(function(){c(A)})},z)},b=48)}},pe:function(c){L&&L(c)}},D=61;else if(D==67)D=(p&93)==p?77:61;else if(D==Z)D=p-8<<1>=p&&(p+8^27)<p?76:67;else if(D==87)v=typeof d,L=v!=e?v:d?Array.isArray(d)?\"array\":v:\"null\",W=L==F||L==e&&typeof d.length==r,D=74;else if(D==45)L.classList?L.classList.remove(v):(L.classList?L.classList.contains(v):zE(26,r,32,v,Q(16,e,L)))&&mc(72,27,d,Array.prototype.filter.call(Q(17,e,L),function(c){return c!=v}).join(F),L),D=Z;else if(D==1)D=59;else if(D==76)W=Math.floor(this.Bt+(this.I()-this.nP)),D=67;else if(D==61)D=(p|2)>>4?74:87;else if(D==74)return W},gD=function(Z,p,r,e,F,d,v,L,D,n,W,c,m,z,R){for(R=69;R!=88;){if(R==27)return z;if(R==53)R=Z.addEventListener?52:49;else if(R==33)D=S1,Z in D?d.setAttribute(L,D[Z]):d.removeAttribute(L),R=27;else if(R==28)R=S1?33:66;else if(R==62)W=Rr(20,3),m.proxy=W,W.src=Z,W.listener=m,R=53;else if(R==43)Z.attachEvent(mc(72,7,\"on\",d.toString()),W),R=94;else if(R==34)R=((F^25)&4)<1&&F<<1>=22?20:27;else if(R==69)R=16;else{if(R==48)throw Error(\"Invalid event type\");if(R==90)R=m.proxy?34:62;else if(R==16)R=(F>>2&7)==1?92:34;else if(R==3)R=Z.addListener&&Z.removeListener?82:60;else if(R==94)fN++,R=34;else if(R==52)AU||(L=n),L===void 0&&(L=p),Z.addEventListener(d.toString(),W,L),R=94;else if(R==92)R=d?37:48;else{if(R==60)throw Error(\"addEventListener and attachEvent are unavailable.\");R==66?(v={},S1=(v.atomic=false,v.autocomplete=\"none\",v.dropeffect=\"none\",v.haspopup=false,v.live=\"off\",v.multiline=false,v.multiselectable=false,v.orientation=\"vertical\",v.readonly=false,v.relevant=\"additions text\",v.required=false,v.sort=\"none\",v.busy=false,v.disabled=false,v.hidden=false,v.invalid=p,v),R=33):R==54?(d.setAttribute(L,e),R=27):R==20?(Array.isArray(e)&&(e=e.join(r)),L=\"aria-\"+Z,R=22):R==49?R=Z.attachEvent?43:3:R==82?(Z.addListener(W),R=94):R==22?R=e===\"\"||e==void 0?28:54:R==37&&(n=Hu(62,r,L)?!!L.capture:!!L,(c=Rr(20,15,Z))||(Z[$O]=c=new nN(Z)),m=c.add(d,D,e,n,v),R=90)}}}},zE=function(Z,p,r,e,F,d,v,L,D,n,W){for(n=87;n!=28;)if(n==5)p.classList?Array.prototype.forEach.call(e,function(c){Wu(39,56,1,\"\",\" \",\"class\",c,p)}):mc(72,25,\"class\",Array.prototype.filter.call(Q(14,\"\",p),function(c){return!zE(26,1,33,c,e)}).join(\" \"),p),n=66;else if(n==56)n=(r&57)==r?42:83;else if(n==57)n=(r+8&28)>=r&&(r+2&36)<r?5:66;else if(n==83)n=(r-4|Z)>=r&&(r+7^25)<r?92:57;else if(n==87)n=56;else if(n==42)W=dD(0,p,45,F,e)>=0,n=83;else{if(n==66)return W;if(n==92){a:{for(D=p;D<d.length;++D)if(L=d[D],!L.ds&&L.listener==e&&L.capture==!!F&&L.KP==v){W=D;break a}W=-1}n=57}}},QO=function(Z,p,r,e,F,d,v,L,D,n,W,c){for(c=26;c!=16;)if(c==83)QO(53,28,0,true,F[n],d,v,L,D),c=12;else if(c==26)c=4;else if(c==12)n++,c=19;else if(c==4)c=p-6>>4?32:14;else{if(c==56)return W;c==89?(n=r,c=Z):c==47?c=Array.isArray(F)?89:80:c==80?(d=H(29,d),L&&L[CN]?L.i.add(String(F),d,e,Hu(60,\"object\",v)?!!v.capture:!!v,D):gD(L,false,\"object\",e,6,F,D,v,d),c=56):c==32?c=(p+1^6)>=p&&(p+2^11)<p?40:66:c==19?c=n<F.length?83:56:c==40?(W=Math.floor(this.I()),c=66):c==Z?c=19:c==14?(W=r&&r.parentNode?r.parentNode.removeChild(r):null,c=32):c==66&&(c=p<<2&15?56:47)}},N=function(Z,p,r,e,F,d,v,L,D,n,W,c){if(Z-3<22&&Z+5>=13&&(e=Ez(3,8,r),e&p&&(e=-~e+(~e^127)+(~e&127)|Ez(3,8,r)<<7),c=e),(Z|40)==Z){for(v=(L=C(46,e),0);r>0;r--)v=(d=v<<p,F=Ez(3,p,e),1-~(d|F)+2*(d&~F)+2*(~d|F));E(L,e,v)}return((Z^52)&7)==1&&(n=GE,e=[-82,-54,-48,71,2,93,e,4,-55,94],W=v&7,L=YO[d.T](d.HM),L[d.T]=function(m){W=((D=(W+=6+7*v,m),W)|0)+~(W&7)- -8-(W^7)},L.concat=function(m,z,R,O,f){return(D=(m=(f=F%16+p,R=+W- -2916*F*D-f*D-270*F*F*D+e[z=W+27,(z|7)- -1-(~z&7)+(~z|7)]*F*f+54*D*D-0*D+5*F*F*f+(n()|0)*f,e)[R],void 0),e)[(O=W+r,8+(O^7)+2*(~O^7)-(~O|7))+(v&2)]=m,e[W+(-(v|0)+(v|2)-~(v&2)+(v|-3))]=-54,m},c=L),(Z&121)==Z&&(e=YO[p.T](p.L7),e[p.T]=function(){return r},e.concat=function(m){r=m},c=e),c},y=function(Z,p,r,e,F,d,v,L){for(v=77;v!=85;)if(v==63)v=13;else if(v==69)v=((Z^10)&7)==2?25:48;else if(v==43)v=((Z|8)&15)>=1&&(Z^78)<21?63:13;else{if(v==11)return L;v==25?(this.listener=F,this.proxy=null,this.src=r,this.type=e,this.capture=!!p,this.KP=d,this.key=++lH,this.Rt=this.ds=false,v=48):v==48?v=(Z^6)>>3==2?54:43:v==54?(E(p,r,e),e[iH]=2796,v=43):v==13?v=(Z^42)>>4?11:4:v==4?(p.ZW=function(){return p.Pt?p.Pt:p.Pt=new p},p.Pt=void 0,v=11):v==77&&(v=69)}},Ir=function(Z,p,r,e,F,d,v){for(d=47;d!=16;){if(d==80)return v;d==51?(this.type=e,this.currentTarget=this.target=F,this.defaultPrevented=this.Ht=false,d=93):d==32?d=(r+Z&10)<r&&(r-Z|p)>=r?51:93:d==15?d=80:d==47?d=32:d==93&&(d=(r+7&8)<8&&(r>>2&7)>=1?15:80)}},Hu=function(Z,p,r,e,F,d,v,L,D,n,W){for(n=87;n!=15;){if(n==81)return W;n==31?(F=r,F^=F<<13,F^=F>>17,F=(d=F<<5,-~F+~d+2*(~F&d)),(F&=e)||(F=1),W=-3*(~p^F)-(~p&F)+(p|~F)+2*(~p|F),n=81):n==79?n=(Z&113)==Z?31:81:n==28?(e=typeof r,W=e==p&&r!=null||e==\"function\",n=79):n==6?(W=(D=NS[p.substring(0,3)+\"_\"])?D(p.substring(3),r,e,F,d,v,L):wD(87,p,12,r),n=44):n==45?n=(Z-3&15)==3?6:44:n==87?n=45:n==46?(this.CP=T.document||document,n=8):n==44?n=(Z<<1&14)==2?46:8:n==8&&(n=(Z-8^9)>=Z&&(Z+6&56)<Z?28:79)}},TE=function(Z,p,r,e,F,d,v,L,D,n,W,c,m){for(m=96;m!=98;)if(m==58)m=(Z|7)>>3==1?35:44;else if(m==96)m=57;else if(m==93)e-=8,d.push((F=L>>e,2*(F|0)+255-2*(F|255)+(~F&255))),m=23;else if(m==30)m=v<p.length?50:71;else if(m==3)F=(d=Object.getPrototypeOf(F.prototype))&&d.constructor,m=18;else if(m==81)c=p,m=31;else if(m==48)m=(L=ar[D])?79:3;else if(m==5)m=30;else if(m==50)L=L<<r|p[v],e+=r,m=32;else if(m==66)this.g=v,m=44;else if(m==2)m=e>7?93:34;else if(m==57)m=((Z|6)&7)>=5&&(Z|7)<11?69:97;else if(m==32)m=2;else if(m==36)m=(v=r)?66:24;else if(m==25)m=70;else if(m==52)v=e=0,d=[],m=5;else if(m==14)v=L?typeof L.ZW===\"function\"?L.ZW():new L:null,m=66;else{if(m==31)return c;if(m==97)m=(Z|48)==Z?52:58;else if(m==79)m=14;else if(m==69){if((((d.j+=(n=(L=(v=d.It>(e||d.gs++,0)&&d.Td&&d.cM&&d.uo<=1&&!d.u&&!d.s&&(!e||d.Ex-r>1)&&document.hidden==p,d).gs==4)||v?d.I():d.bo,W=n-d.bo,W>>14)>0,d.A)&&(d.A^=(d.j+1>>2)*(W<<2)),d).F=d.j+1>>2!=0||d.F,L)||v)d.gs=0,d.bo=n;v?(d.It>d.Wt&&(d.Wt=d.It),n-d.nP<d.It-(F?255:e?5:2)?c=p:(d.Ex=r,D=J(e?382:267,d),E(267,d,d.v),d.G.push([or,D,e?r+1:r,d.Y,d.U]),d.s=cu,c=true)):c=p,m=97}else m==44?m=(Z|72)==Z?81:31:m==71?(c=d,m=58):m==34?(v++,m=30):m==43?(D=k(F,10),m=48):m==24?(F=this.constructor,m=25):m==23?m=2:m==18?m=70:m==35?(yO.call(this,e),m=36):m==70&&(m=F?43:14)}},mc=function(Z,p,r,e,F,d,v){for(v=62;v!=94;)if(v==46)v=(p^21)>>3==1?Z:45;else{if(v==86)return d;v==Z?(typeof F.className==\"string\"?F.className=e:F.setAttribute&&F.setAttribute(r,e),v=45):v==92?(d=e in Uz?Uz[e]:Uz[e]=r+e,v=86):v==62?v=46:v==45&&(v=(p+3&7)>=2&&p>>1<11?92:86)}},JU=function(Z,p,r,e,F,d,v,L,D,n){for(n=88;n!=91;)if(n==88)n=80;else if(n==6)Array.prototype.forEach.call(F,function(W,c,m){for(m=50;m!=17;)m==26?(c=h(e,\"string\",\"\",89),mc(p,26,\"class\",c+(c.length>Z?\" \"+W:W),e),m=17):m==67?m=(e.classList?e.classList.contains(W):zE(26,1,25,W,Q(15,\"\",e)))?17:26:m==46?(e.classList.add(W),m=17):m==50&&(m=e.classList?46:67)}),n=58;else if(n==53)n=(r^5)>>4?58:65;else if(n==37)this.Qt=this.Qt,this.V=this.V,n=53;else if(n==80)n=r>>2&6?53:37;else if(n==39){for(d in v=((Array.prototype.forEach.call(Q(19,(L={},\"\"),e),function(W){L[W]=true}),Array).prototype.forEach.call(F,function(W){L[W]=true}),\"\"),L)v+=v.length>Z?\" \"+d:d;n=(mc(p,24,\"class\",v,e),58)}else if(n==65)n=e.classList?6:39;else if(n==58)return D},tU=function(Z,p,r,e,F,d,v,L,D,n,W,c,m,z,R,O){for(O=9;O!=8;)if(O==81)this.n===0?R=[0,0]:(this.h.sort(function(f,b){return f-b}),R=[this.n,this.h[this.h.length>>1]]),O=27;else if(O==89)O=17;else if(O==17)O=Z<<1>=-36&&((Z|7)&8)<3?97:85;else if(O==97)O=v?3:85;else if(O==16)O=(Z-6|10)>=Z&&(Z-4^10)<Z?89:17;else if(O==85)O=(Z+4^17)>=Z&&(Z+8&47)<Z?81:27;else{if(O==27)return R;if(O==9)O=16;else if(O==3){a:{for(z=d.split((W=kO,F)),L=e;L<z.length-r;L++){if(!(c=z[L],c in W))break a;W=W[c]}(n=(D=(m=z[z.length-r],W[m]),v(D)),n!=D&&n!=p)&&hU(W,m,{configurable:true,writable:true,value:n})}O=85}}},h=function(Z,p,r,e,F,d,v,L,D,n,W,c,m,z,R){for(z=11;z!=64;)if(z==96)z=p?71:63;else if(z==78)R=typeof Z.className==p?Z.className:Z.getAttribute&&Z.getAttribute(\"class\")||r,z=88;else if(z==41)z=Z==\"mouseout\"?56:12;else if(z==38)z=n<p.length?51:90;else if(z==63)z=(e|88)==e?78:88;else if(z==51)L+=p.charCodeAt(n),L+=L<<10,L=(c=L>>6,(L|0)+(c|0)+2*~c-2*(L|~c)),z=32;else if(z==56)F=p.toElement,z=12;else if(z==3)this.offsetX=p.offsetX,this.offsetY=p.offsetY,this.clientX=p.clientX!==void 0?p.clientX:p.pageX,this.clientY=p.clientY!==void 0?p.clientY:p.pageY,this.screenX=p.screenX||0,this.screenY=p.screenY||0,z=70;else if(z==35){a:{switch(d){case 1:R=v?\"disable\":\"enable\";break a;case F:R=v?\"highlight\":\"unhighlight\";break a;case r:R=v?\"activate\":\"deactivate\";break a;case 8:R=v?\"select\":\"unselect\";break a;case 16:R=v?\"check\":\"uncheck\";break a;case Z:R=v?\"focus\":\"blur\";break a;case p:R=v?\"open\":\"close\";break a}throw Error(\"Invalid component state\");}z=57}else if(z==13)z=(e-3&15)==3?79:80;else if(z==68)z=38;else if(z==90)L+=L<<3,L=(W=L>>11,~L-~W+2*(L&~W)),v=L+(L<<15)>>>0,F=new Number((d=(D=1<<r,2*(D&-2)-2*(~D&1)-(D|-2)+(~D|1)),-2*~d+~(v|d)+2*(v&~d)+(~v^d))),F[0]=(v>>>r)%Z,R=F,z=13;else if(z==17)z=F?12:95;else if(z==55)L=n=0,z=68;else if(z==70)this.button=p.button,this.keyCode=p.keyCode||0,this.key=p.key||\"\",this.charCode=p.charCode||(Z==\"keypress\"?p.keyCode:0),this.ctrlKey=p.ctrlKey,this.altKey=p.altKey,this.shiftKey=p.shiftKey,this.metaKey=p.metaKey,this.pointerId=p.pointerId||0,this.pointerType=p.pointerType,this.state=p.state,this.timeStamp=p.timeStamp,this.F9=p,p.defaultPrevented&&uH.l.preventDefault.call(this),z=63;else if(z==80)z=(e+1^29)<e&&(e-5^16)>=e?35:57;else if(z==61)F=p.fromElement,z=12;else if(z==57)z=(e|3)>>3==3?60:63;else if(z==71)Z=this.type=p.type,d=p.changedTouches&&p.changedTouches.length?p.changedTouches[0]:null,this.target=p.target||p.srcElement,this.currentTarget=r,F=p.relatedTarget,z=17;else if(z==79)m=function(){},m.prototype=Z.prototype,r.l=Z.prototype,r.prototype=new m,r.prototype.constructor=r,r.er=function(O,f,b){for(var A=77;A!=94;)if(A==10)A=86;else if(A==77)var g=Array((A=10,arguments).length-p),G=p;else if(A==61)g[G-p]=arguments[G],A=14;else if(A==86)A=G<arguments.length?61:78;else{if(A==78)return Z.prototype[f].apply(O,g);A==14&&(G++,A=86)}},z=80;else if(z==60)KN.call(this,p?p.type:\"\"),this.relatedTarget=this.currentTarget=this.target=null,this.button=this.screenY=this.screenX=this.clientY=this.clientX=this.offsetY=this.offsetX=0,this.key=\"\",this.charCode=this.keyCode=0,this.metaKey=this.shiftKey=this.altKey=this.ctrlKey=false,this.state=null,this.pointerId=0,this.pointerType=\"\",this.timeStamp=0,this.F9=null,z=96;else{if(z==88)return R;z==32?(n++,z=38):z==40?z=e-6>>4?13:55:z==12?(this.relatedTarget=F,z=46):z==46?z=d?93:3:z==95?z=Z==\"mouseover\"?61:41:z==93?(this.clientX=d.clientX!==void 0?d.clientX:d.pageX,this.clientY=d.clientY!==void 0?d.clientY:d.pageY,this.screenX=d.screenX||0,this.screenY=d.screenY||0,z=70):z==11&&(z=40)}},u=function(Z,p,r,e,F,d,v,L,D,n){for(n=20;n!=97;)if(n==66)n=v<d?37:52;else if(n==50)FV(24,72,Z,r),n=80;else if(n==55)d=e.length,L=typeof e===\"string\"?e.split(r):e,v=Z,n=46;else{if(n==18)return D;n==20?n=47:n==44?(D=!!(r.lo&e)&&!!(r.W&e)!=F&&(!(d=r.Sr,(e|0)- -1+(d|~e))||r.dispatchEvent(h(32,64,4,47,Z,e,F)))&&!r.V,n=18):n==22?n=(p|56)==p?44:18:n==87?(this.F=Z,n=71):n==80?n=e.H[F].length==0?73:22:n==37?(v in L&&F.call(void 0,L[v],v,e),n=27):n==52?n=p+2>>3==3?87:71:n==36?n=F in e.H&&H(67,0,e.H[F],r)?50:22:n==47?n=(p&88)==p?42:77:n==42?(Bu.call(this),Z||qS||(qS=new XV),this.xw=null,this.ot=void 0,this.oe=null,this.Ak=false,this.zd=this.J=this.io=null,this.m9=false,n=77):n==73?(delete e.H[F],e.ct--,n=22):n==71?n=p+4>>1<p&&(p-2^3)>=p?75:22:n==27?(v++,n=66):n==77?n=(p|88)==p?55:52:n==75?(F=r.type,n=36):n==46&&(n=66)}},e1=function(Z,p,r,e,F,d,v,L,D,n,W,c,m,z){for(z=68,c=71;;)try{if(z==46)break;else if(z==68)z=23;else if(z==3)z=(Z-7|10)<Z&&(Z+5^2)>=Z?37:55;else if(z==94)D=d.s,D(function(){pN(2048,35,0,true,d,true)}),z=95;else{if(z==40)return m;z==32?z=89:z==95?(m=n,z=40):z==58?z=(Z-8^26)<Z&&Z-5<<2>=Z?32:40:z==72?(e.R=((e.R?e.R+\"~\":\"E:\")+p.message+\":\"+p.stack).slice(0,r),z=3):z==89?z=d.G.length?15:95:z==47?z=89:z==23?z=(Z>>2&5)==1?72:3:z==18?z=F&&F[CN]?97:66:z==97?(u(true,6,e,F.i),z=58):z==65?(u(true,14,e,L),z=43):z==62?(L.src=r,F[$O]=r,z=58):z==98?(c=71,z=6):z==1?(F=e.src,z=18):z==14?(c=58,n=MS(L,p,e,d),z=98):z==10?z=typeof e!==\"number\"&&e&&!e.ds?1:58:z==66?(d=e.proxy,v=e.type,F.removeEventListener?F.removeEventListener(v,d,e.capture):F.detachEvent?F.detachEvent(mc(72,3,\"on\",v),d):F.addListener&&F.removeListener&&F.removeListener(d),fN--,L=Rr(20,14,F),z=29):z==6?z=v&&d.s?94:47:z==29?z=L?65:5:z==43?z=L.ct==p?62:58:z==37?(this.n++,p=r-this.B,this.B+=p/this.n,this.OK+=p*(r-this.B),z=55):z==5?(FV(24,74,true,e),z=58):z==55?z=(Z-6^7)<Z&&(Z+2&46)>=Z?10:58:z==15?(d.s=F,L=d.G.pop(),z=14):z==81&&(c=71,e1(46,W,r,d),z=98)}}catch(R){if(c==71)throw R;c==58&&(W=R,z=81)}},Q=function(Z,p,r,e,F,d,v,L,D,n,W,c,m,z){for(z=63;z!=18;){if(z==29)return m;if(z==16)z=(Z^18)>>3==2?40:78;else if(z==64)z=Z-7>>5<4&&Z>>1>=13?46:29;else if(z==40)this[this+\"\"]=this,m=Promise.resolve(),z=78;else if(z==46){if(c=e.i.H[String(F)]){for(L=(n=(c=c.concat(),0),p);n<c.length;++n)(v=c[n])&&!v.ds&&v.capture==d&&(W=v.KP||v.src,D=v.listener,v.Rt&&u(p,10,v,e.i),L=D.call(W,r)!==false&&L);m=L&&!r.defaultPrevented}else m=p;z=29}else z==63?z=16:z==31?(m=r.classList?r.classList:h(r,\"string\",p,88).match(/\\\\S+/g)||[],z=64):z==78&&(z=(Z+2^25)<Z&&(Z-5^29)>=Z?31:64)}},wD=function(Z,p,r,e,F,d,v,L,D,n,W,c){for(W=52;W!=23;)if(W==38)this.h.push(e),W=17;else{if(W==16)return c;if(W==80)p=Math.floor(Math.random()*this.n),p<50&&(this.h[p]=e),W=17;else if(W==53)W=this.h.length<50?38:80;else if(W==Z)v=true,W=40;else if(W==56)wD(87,\"object\",65,0,F,d[n],v,L,D),W=5;else if(W==14)QO(53,32,e,true,d,L,D,F,v),W=16;else if(W==96)this.n++,W=53;else if(W==13)W=(r-2|63)>=r&&(r-7|52)<r?96:17;else if(W==22)W=D&&D.once?14:0;else if(W==69)n=e,W=97;else if(W==43)e(function(m){m(p)}),c=[function(){return p},function(){}],W=59;else if(W==52)W=27;else if(W==17)W=(r|4)>>4==4?22:16;else if(W==40)c=v,W=13;else if(W==97)W=21;else if(W==27)W=(r-7^20)>=r&&(r-5^29)<r?12:62;else if(W==5)n++,W=21;else if(W==59)W=(r&59)==r?63:13;else if(W==21)W=n<d.length?56:16;else if(W==12){if(v=p.length,v>e){for(F=(d=Array(v),e);F<v;F++)d[F]=p[F];c=d}else c=[];W=62}else W==0?W=Array.isArray(d)?69:2:W==2?(L=H(30,L),F&&F[CN]?F.i.add(String(d),L,false,Hu(72,p,D)?!!D.capture:!!D,v):gD(F,false,\"object\",false,5,d,v,D,L),W=16):W==62?W=(r>>1&11)==2?43:59:W==98?(d=new uH(p,this),F=e.listener,L=e.KP||e.src,e.Rt&&e1(8,0,null,e),v=F.call(L,d),W=40):W==63&&(W=e.ds?Z:98)}},jO=function(Z,p,r,e,F,d,v){for(v=21;v!=28;)if(v==38)d=YO[e](YO.prototype,{call:r,stack:r,splice:r,document:r,parent:r,prototype:r,replace:r,floor:r,length:r,propertyIsEnumerable:r,pop:r,console:r}),v=61;else if(v==50)v=(p&62)==p?38:61;else if(v==15)V.call(this,r,e||xO.ZW(),F),v=59;else if(v==68)v=36;else if(v==35)rT.call(this),this.i=new nN(this),this.K7=this,this.LP=null,v=23;else if(v==48)this.src=r,this.H={},this.ct=0,v=50;else if(v==23)v=(p|40)==p?48:50;else if(v==49)v=(p&15)==p?35:23;else if(v==59)v=(p-1&15)==Z?68:36;else{if(v==36)return d;v==61?v=(p&122)==p?15:59:v==21&&(v=49)}},C=function(Z,p,r,e,F,d,v,L,D,n,W){if((Z^9)>=(((Z|7)>>4||(n=W=function(){for(var c=45;c!=12;)if(c==28)c=F==p?11:42;else if(c==68)c=v.o?10:90;else{if(c==13)return z;if(c==63)c=F==r?16:28;else if(c==10)var m=[Zu,e,d,void 0,L,(c=63,D),arguments];else if(c==16){var z=pN(2048,11,0,false,(k(0,15,m,v),v),false);c=13}else if(c==45)c=v.F==v?68:12;else if(c==11){var R=!v.G.length;c=((k(0,11,m,v),R)&&pN(2048,3,0,false,v,false),13)}else c==90?(L&&D&&L.removeEventListener(D,W,eO),c=12):c==42&&(z=MS(m,2,\"load\",v),c=13)}}),(Z^11)>>4)>=2&&(Z^39)<10&&(p.u?n=pu(p.D,p):(e=Fo(8,3,p,true),(e|0)- -129+~(e|128)&&(e^=128,r=Fo(2,3,p,true),e=(F=e<<2,2*~(F&r)-4*~r+3*(F|~r)-(~F|r))),n=e)),6)&&(Z^20)>>4<1)if(d=vZ(\"splice\",\"array\",e)===\"array\"?e:[e],this.R)p(this.R);else try{v=!this.G.length,F=[],k(0,7,[dT,F,d],this),k(0,11,[$e,p,F],this),r&&!v||pN(2048,3,0,r,this,true)}catch(c){e1(77,c,2048,this),p(this.R)}return Z>>2&3||(n=(v=e[F]<<24|e[-2*~(F&1)+3*(F^1)+r*(~F^1)]<<p,d=e[r*(F&r)+(F&-3)+(~F&r)]<<8,-~(v|d)+(v^d)+(~v^d))|e[-2*~(F&3)+3*(F^3)+r*(~F^3)]),n},nu=function(Z,p,r,e,F,d,v,L,D,n){for(D=79;D!=p;)if(D==63)L=0,F=\"\",D=28;else if(D==28)D=71;else if(D==22)D=(d+9&8)<d&&(d-4|8)>=d?44:33;else if(D==52){a:{for(L in r)if(e.call(void 0,r[L],L,r)){n=F;break a}n=v}D=22}else if(D==60)D=(d|16)==d?52:22;else if(D==18)e=r(F).replace(/\\\\+/g,\"-\").replace(/\\\\//g,\"_\").replace(/=/g,\"\"),D=20;else if(D==42)L+=8192,D=71;else if(D==Z)F+=String.fromCharCode.apply(null,v.slice(L,L+8192)),D=42;else if(D==56)D=r?63:53;else{if(D==33)return n;D==71?D=L<v.length?Z:18:D==44?(r=window.btoa,D=56):D==20?(n=e,D=33):D==53?(e=void 0,D=20):D==79&&(D=60)}},FV=function(Z,p,r,e,F,d,v,L,D,n,W){for(n=48;n!=65;)if(n==40)this[this+\"\"]=this,n=3;else if(n==62)e.ds=r,e.listener=null,e.proxy=null,e.src=null,e.KP=null,n=33;else if(n==48)n=57;else if(n==3)n=(p|72)==p?62:33;else{if(n==97)return W;if(n==44)n=e?26:99;else if(n==57)n=(p|3)>>3==2?40:3;else if(n==54)n=(p|Z)==p?44:97;else{if(n==61)throw Error(\"Invalid decorator function \"+r);if(n==33)n=(p^30)>>3==3?39:54;else{if(n==99)throw Error(\"Invalid class name \"+e);if(n==39){a:{for(L=(v=[F==typeof globalThis&&globalThis,d,F==typeof window&&window,F==typeof self&&self,F==typeof global&&global],r);L<v.length;++L)if((D=v[L])&&D[e]==Math){W=D;break a}throw Error(\"Cannot find global object\");}n=54}else n==26&&(n=typeof r!==\"function\"?61:97)}}}},dD=function(Z,p,r,e,F,d,v,L,D,n,W,c,m,z){for(z=30;z!=28;)if(z==61)z=r-3<<1>=r&&(r-3|41)<r?71:20;else if(z==45)z=90;else if(z==56)z=n?19:22;else if(z==71){a:if(typeof e===\"string\")m=typeof F!==\"string\"||F.length!=p?-1:e.indexOf(F,Z);else{for(d=Z;d<e.length;d++)if(d in e&&e[d]===F){m=d;break a}m=-1}z=20}else if(z==78)D=Hu(74,Z,v)?!!v.capture:!!v,d=H(28,d),z=74;else if(z==30)z=75;else if(z==48)W++,z=90;else{if(z==58)return m;z==9?(dD(\"object\",0,18,e[W],F,d,v,L),z=48):z==54?z=L?27:22:z==34?(p.fP(function(R){F=R},Z,e),m=F,z=58):z==90?z=W<e.length?9:22:z==27?(n=Rr(20,16,L),z=56):z==74?z=L&&L[CN]?3:54:z==3?(L.i.remove(String(e),d,D,F),z=22):z==2?(W=p,z=45):z==75?z=r-5<22&&r<<1>=20?1:22:z==43?(e=Z,m=function(){return e<p.length?{done:false,value:p[e++]}:{done:true}},z=61):z==1?z=Array.isArray(e)?2:78:z==19?((c=n.S0(D,d,e,F))&&e1(9,0,null,c),z=22):z==22?z=(r|3)>>4?61:43:z==20&&(z=(r&60)==r?34:58)}},k=function(Z,p,r,e,F,d){for(F=10;F!=39;){if(F==0)return d;F==60?F=p<<2&7?69:49:F==69?F=(p^15)<19&&(p+7&3)>=2?16:0:F==10?F=60:F==49?(d=Object.prototype.hasOwnProperty.call(Z,Lu)&&Z[Lu]||(Z[Lu]=++sO),F=69):F==16&&(e.G.splice(Z,Z,r),F=0)}},RE=function(Z,p,r,e){B((e=C(36,(r=C(38,Z),Z)),e),Z,q(J(r,Z),p))},Du=function(Z,p){function r(){this.n=(this.h=[],0)}return p=(Z=((r.prototype.Fs=function(){return tU.call(this,8)},r.prototype).Yw=function(e,F){return wD.call(this,87,F,6,e)},new r),new r),[function(e){Z.Yw(e),p.Yw(e)},function(e){return p=new (e=Z.Fs().concat(p.Fs()),r),e}]},sz=function(Z,p,r,e,F,d){return wD.call(this,87,p,8,Z,r,e,F,d)},J=function(Z,p,r){if(r=p.o[Z],r===void 0)throw[cZ,30,Z];if(r.value)return r.create();return r.create(Z*5*Z+-54*Z),r.prototype},vZ=function(Z,p,r,e,F){if((F=typeof r,F)==\"object\")if(r){if(r instanceof Array)return p;if(r instanceof Object)return F;if((e=Object.prototype.toString.call(r),e)==\"[object Window]\")return\"object\";if(e==\"[object Array]\"||typeof r.length==\"number\"&&typeof r.splice!=\"undefined\"&&typeof r.propertyIsEnumerable!=\"undefined\"&&!r.propertyIsEnumerable(Z))return p;if(e==\"[object Function]\"||typeof r.call!=\"undefined\"&&typeof r.propertyIsEnumerable!=\"undefined\"&&!r.propertyIsEnumerable(\"call\"))return\"function\"}else return\"null\";else if(F==\"function\"&&typeof r.call==\"undefined\")return\"object\";return F},X,nN=function(Z){return jO.call(this,4,41,Z)},zt=function(Z,p,r,e,F){return y.call(this,8,r,e,F,Z,p)},q=function(Z,p,r,e){for(e=2+(p^(r=[],1))+2*(p|-2);e>=0;e--)r[(p|0)-1-(e|0)]=Z>>e*8&255;return r},MS=function(Z,p,r,e,F,d,v,L,D,n,W,c){if(L=Z[0],L==dT)e.tM=25,e.U=true,e.O(Z);else if(L==$e){v=Z[1];try{D=e.R||e.O(Z)}catch(m){e1(14,m,2048,e),D=e.R}(d=e.I(),v)(D),e.S+=e.I()-d}else if(L==or)Z[3]&&(e.Y=true),Z[4]&&(e.U=true),e.O(Z);else if(L==mx)e.Y=true,e.O(Z);else if(L==WZ){try{for(F=0;F<e.Nc.length;F++)try{c=e.Nc[F],c[0][c[1]](c[p])}catch(m){}}catch(m){}((0,Z[1])(function(m,z){e.fP(m,true,z)},(e.Nc=[],n=e.I(),function(m){((m=!e.G.length,k)(0,7,[SO],e),m)&&pN(2048,9,0,true,e,false)}),function(m){return e.X9(m)},function(m,z){return e.Ie(m,z)}),e).S+=e.I()-n}else{if(L==Zu)return W=Z[p],E(336,e,Z[6]),E(288,e,W),e.O(Z);L==SO?(e.O(Z),e.o=null,e.EK=[],e.hM=[]):L==iH&&T.document.readyState===\"loading\"&&(e.s=function(m,z){function R(O){for(O=26;O!=23;)O==26?O=z?23:56:O==56&&(z=true,T.document.removeEventListener(\"DOMContentLoaded\",R,eO),T.removeEventListener(r,R,eO),m(),O=23)}T.document.addEventListener(\"DOMContentLoaded\",(z=false,R),eO),T.addEventListener(r,R,eO)})}},by=function(Z,p,r,e,F){return JU.call(this,0,72,8,Z,p,r,e,F)},OO=function(Z,p,r,e,F,d,v,L,D,n,W){for(d=(F=Z.replace(/\\\\r\\\\n/g,\"\\\\n\"),e=p,L=[],p);d<F.length;d++)D=F.charCodeAt(d),D<128?L[e++]=D:(D<2048?L[e++]=D>>6|192:(-~(D&64512)+(D^64512)+(~D^64512)==55296&&d+1<F.length&&(F.charCodeAt(d+1)&64512)==56320?(D=65536+((D&1023)<<10)+(F.charCodeAt(++d)&1023),L[e++]=(n=D>>18,3*(n|p)- -1+2*~n-(n|-241)),L[e++]=D>>12&63|128):L[e++]=(v=D>>12,-(v&224)+~(v&224)-3*~(v|224)+2*(~v^224)),L[e++]=(r=D>>6,63+(r&-64)-(r^63))|128),L[e++]=(W=-~(D&63)- -1+2*(D&-64)+2*(~D|63),2*~(W&128)- -387+2*(W|-129)-(~W|128)));return L},yO=function(Z){return u.call(this,Z,8)},AG=function(Z,p,r,e,F,d,v,L,D,n){for(d=C(36,(L=(v=C(36,(F=p[fu]||{},p)),F.bn=C(36,p),F.X=[],p.F==p)?(n=Ez(3,e,p),-2*~n+2*~(n|r)+(n^r)):1,p)),D=Z;D<L;D++)F.X.push(C(37,p));for((F.e0=J(v,p),F).ln=J(d,p);L--;)F.X[L]=J(F.X[L],p);return F},HZ=function(){return tU.call(this,12)},xO=function(){return y.call(this,65)},gT=function(Z,p,r,e,F,d,v,L,D,n,W,c,m,z){(p.push((c=(z=Z[0]<<24|Z[1]<<16,n=Z[2]<<8,(z|0)-(~z^n)+(~z|n)),e=Z[3],-~(c&e)+(c^e)+(~c&e)+(c|~e))),p.push((L=(F=Z[4]<<24,m=Z[5]<<16,(m|0)+~(F&m)-~F),D=Z[6]<<8,-(L&D)-2*~(L|D)+(L|~D)+(~L|D))|Z[7]),p).push((W=(d=Z[8]<<24,r=Z[9]<<16,(d|0)-1-(d|~r)),v=Z[10]<<8,-~v+(W^v)+(W|~v))|Z[11])},Qm=function(Z,p){function r(){this.OK=this.B=this.n=0}return[function(e){(p.Mc(e),Z).Mc(e)},(Z=(p=((r.prototype.p7=function(){return pN.call(this,2048,6)},r).prototype.Mc=function(e,F){return e1.call(this,16,F,e)},new r),new r),function(e){return Z=(e=[p.p7(),Z.p7(),p.B,Z.B],new r),e})]},Cu=function(Z,p,r){return jO.call(this,4,64,Z,p,r)},EO=function(Z,p,r,e,F,d){try{d=Z[((p|0)+2)%3],Z[p]=(F=Z[p],e=Z[((p|1)-~(p&1)-1)%3],-(~F^e)-(~F&e)+(F|~e))-(d|0)^(p==1?d<<r:d>>>r)}catch(v){throw v;}},Fo=function(Z,p,r,e,F,d,v,L,D,n,W,c,m,z,R,O,f,b){if(z=J(267,r),z>=r.v)throw[cZ,31];for(d=(m=(b=(v=z,Z),r.m6).length,0);b>0;)R=v>>p,W=v%8,L=r.EK[R],F=8-(W|0),c=F<b?F:b,e&&(O=v,f=r,f.P!=O>>6&&(f.P=O>>6,D=J(149,f),f.j0=Gt(8,1876,[0,0,D[1],D[2]],f.P,f.A,24,2)),L^=r.j0[R&m]),d|=(L>>8-(W|0)-(c|0)&(1<<c)-1)<<(b|0)-(c|0),b-=c,v+=c;return(n=d,E)(267,r,(z|0)+(Z|0)),n},KN=function(Z,p){return Ir.call(this,5,14,21,Z,p)},Ye=function(Z,p,r,e,F,d,v){((e=(d=C(46,(r=C((v=(F=p&4,-(p|3)-2*~(p|3)+(p^3)+2*(~p^3)),39),Z),Z)),J(r,Z)),F)&&(e=OO(\"\"+e,0)),v&&B(d,Z,q(e.length,2)),B)(d,Z,e)},ly=function(Z,p){return zE.call(this,26,Z,5,p)},rT=function(){return JU.call(this,0,72,32)},PZ=function(Z,p,r,e,F,d,v,L,D,n,W,c){for(c=20;c!=8;)if(c==91)c=!Wu(39,7,F,Z,\"array\",L)||Hu(76,Z,L)&&L.nodeType>v?49:23;else if(c==49)W(L),c=30;else if(c==33)L=r[n],c=91;else if(c==23){a:{if(L&&typeof L.length==F){if(Hu(58,Z,L)){D=typeof L.item==\"function\"||typeof L.item==d;break a}if(typeof L===\"function\"){D=typeof L.item==\"function\";break a}}D=false}c=(u(v,89,\"\",D?wD(87,L,20,v):L,W),30)}else c==47?c=n<r.length?33:8:c==30?(n++,c=47):c==20?(W=function(m){m&&e.appendChild(typeof m===\"string\"?p.createTextNode(m):m)},n=1,c=70):c==70&&(c=47)},Bu=function(){return jO.call(this,4,3)},uH=function(Z,p,r,e,F){return h.call(this,r,Z,p,24,e,F)},Ez=function(Z,p,r){return r.u?pu(r.D,r):Fo(p,Z,r,true)},hU=typeof Object.defineProperties==\"function\"?Object.defineProperty:function(Z,p,r,e){for(e=96;e!=7;){if(e==90)return Z;if(e==9)return Z[p]=r.value,Z;e==96&&(e=Z==Array.prototype||Z==Object.prototype?90:9)}},IE=function(Z,p,r,e,F,d){F.rs.length>e?iy([cZ,36],F,p,Z):(F.rs.push(F.o.slice()),F.o[r]=void 0,E(r,F,d))},M=function(Z,p,r,e,F,d,v){v=this;try{Nd(Z,r,this,d,e,F,p)}catch(L){e1(78,L,2048,this),Z(function(D){D(v.R)})}},B=function(Z,p,r,e,F,d,v,L,D){if(p.F==p)for(F=J(Z,p),Z==488||Z==31||Z==50?(d=function(n,W,c,m,z,R,O,f,b,A){for(b=12,A=9;;)try{if(b==53)break;else if(b==88)A=0,F.un=Gt(8,1876,c,C(49,16,2,F,(W|0)+4),C(48,16,2,F,W),24,2),b=46;else if(b==12)O=F.length,R=-~(O&4)+-5-(~O^4)+(O|-5)>>3,b=94;else if(b==26)F.QO=R,W=(z=R<<3,-(z&4)-~(z|4)-(~z&4)+(z|-5)),c=[0,0,v[1],v[2]],b=88;else if(b==46)F.push((m=F.un[O&7],(n|0)+~(m|n)-2*(~m^n)+(m|~n))),b=53;else if(b==94)b=F.QO!=R?26:46;else if(b==52)throw A=9,f;}catch(g){if(A==9)throw g;A==0&&(f=g,b=52)}},v=J(238,p)):d=function(n){F.push(n)},e&&d((e|0)-~(e&255)+~e),D=r.length,L=0;L<D;L++)d(r[L])},Gt=function(Z,p,r,e,F,d,v,L,D,n){for(D=r[3]|(L=0,0),n=r[v]|0;L<15;L++)e=e>>>Z|e<<d,e+=F|0,D=D>>>Z|D<<d,F=F<<3|F>>>29,e^=n+p,F^=e,D+=n|0,n=n<<3|n>>>29,D^=L+p,n^=D;return[F>>>d&255,F>>>16&255,F>>>Z&255,F>>>0&255,e>>>d&255,e>>>16&255,e>>>Z&255,e>>>0&255]},wT=function(Z,p,r,e,F,d){return Wu.call(this,39,24,Z,p,r,e,F,d)},E=function(Z,p,r){if(Z==267||Z==382)p.o[Z]?p.o[Z].concat(r):p.o[Z]=N(33,p,r);else{if(p.zs&&Z!=149)return;Z==390||Z==488||Z==469||Z==50||Z==4||Z==8||Z==480||Z==238||Z==31||Z==191?p.o[Z]||(p.o[Z]=N(29,1,21,r,Z,p,78)):p.o[Z]=N(5,1,21,r,Z,p,121)}Z==149&&(p.A=Fo(32,3,p,false),p.P=void 0)},XV=function(){return Hu.call(this,9)},aE=function(Z,p,r,e,F){if(Z.length==3){for(e=0;e<3;e++)p[e]+=Z[e];for(F=(r=[13,8,13,12,16,5,3,10,15],0);F<9;F++)p[3](p,F%3,r[F])}},pu=function(Z,p,r){return(r=Z.create().shift(),p.u.create()).length||p.D.create().length||(p.u=void 0,p.D=void 0),r},oE=function(Z,p,r,e,F,d,v,L,D){if(!e.R){e.uo++;try{for(d=(F=void 0,e.v),D=0;--r;)try{if(v=void 0,e.u)F=pu(e.u,e);else{if(D=J(267,e),D>=d)break;F=(v=(E(p,e,D),C)(47,e),J)(v,e)}TE((F&&(L=F[SO],2049+(L^Z)-2*(~L&Z)+(~L|Z))?F(e,r):iy([cZ,21,v],e,480,0),3),false,r,false,false,e)}catch(n){J(312,e)?iy(n,e,480,22):E(312,e,n)}if(!r){if(e.Gs){oE(2048,382,(e.uo--,392218293159),e);return}iy([cZ,33],e,480,0)}}catch(n){try{iy(n,e,480,22)}catch(W){e1(76,W,Z,e)}}e.uo--}},ym=function(){return jO.call(this,4,21)},UO=function(Z,p,r,e,F,d,v,L,D,n,W,c){for(n=e,W=32;;)try{if(n==p)break;else if(n==97)n=T.console?r:6;else if(n==e)L=v,D=T.trustedTypes,n=Z;else{if(n==6)return W=32,L;if(n==9)W=59,L=D.createPolicy(F,{createHTML:Tt,createScript:Tt,createScriptURL:Tt}),n=6;else if(n==Z)n=D&&D.createPolicy?9:53;else if(n==64)W=32,n=97;else{if(n==53)return L;n==r&&(T.console[d](c.message),n=6)}}}catch(m){if(W==32)throw m;W==59&&(c=m,n=64)}},DY=function(Z,p,r,e,F,d,v,L){return Hu.call(this,6,Z,p,r,e,F,d,v,L)},ke=function(Z,p){for(var r=55;r!=61;)if(r==15)r=90;else if(r==10){var e=JG[v];Object.prototype.hasOwnProperty.call(d,e)&&(Z[e]=d[e]),r=60}else if(r==58)r=14;else if(r==77)F++,r=14;else if(r==14)r=F<arguments.length?25:61;else if(r==55)var F=(r=58,1);else if(r==60)v++,r=90;else if(r==25){var d=arguments[F];for(e in d)Z[e]=d[e];var v=(r=15,0)}else r==90&&(r=v<JG.length?10:77)},hG=function(Z,p,r){for(r=34;r!=83;)if(r==34)p=[],r=13;else if(r==13)r=57;else if(r==25)p.push(Math.random()*255|0),r=79;else{if(r==8)return p;r==79?r=57:r==57&&(r=Z--?25:8)}},Nd=function(Z,p,r,e,F,d,v,L,D,n,W,c,m,z){for(m=(L=(r.L7=(r.m6=(r.ae=tG,r.f7=uy,r[$e]),r.HM=jO(4,20,{get:function(){return this.concat()}},r.T),YO[r.T](r.HM,{value:{value:{}}})),0),[]);L<291;L++)m[L]=String.fromCharCode(L);if((r.wq=(r.cM=false,r.u=void 0,r.F=(r.uo=0,r),r.Nc=[],r.EK=(r.qO=p,r.s=null,r.Wt=0,[]),W=(r.Y=!(r.kw=e,1),(r.Bt=0,r).Xs=0,r.S=((r.rs=[],r).DW=false,0),(r.hM=[],window).performance||{}),(r.It=(r.K=void 0,0),r).Td=(r.tM=25,false),r.R=void 0,r.v=0,r.o=(r.C7=function(R){return u.call(this,R,23)},[]),r.gs=void 0,r.A=void 0,r.P=void 0,r.j=1,r.yO=(r.D=(r.zs=false,void 0),r.G=[],((r.U=false,r).bo=(r.j0=void 0,0),r.nP=0,r).ZA=[],r.Ex=8001,[]),W.timeOrigin||(W.timing||{}).navigationStart||0),v)&&v.length==2&&(r.ZA=v[1],r.yO=v[0]),F)try{r.K=JSON.parse(F)}catch(R){r.K={}}pN(2048,33,0,(k(0,3,[(k(0,31,[(y(17,((y(22,48,(E(238,r,[0,0,(y((E(469,r,(E(4,r,(y(18,(y(17,46,(y(23,287,r,(E(471,r,(y(23,296,(y(18,383,r,(E(31,r,(E(284,r,(y(20,(E(312,(y(21,1,(r.MO=(y(19,(y(22,263,r,(y(18,58,(y(19,(E(288,r,(y(21,426,(y(20,493,r,(E(488,r,(y(23,327,r,(y(18,36,r,(E(8,(E(95,(y(17,264,(y(19,222,(y(20,459,(E(390,r,(E(50,r,hG((y(19,269,r,(E(69,r,(y(17,444,(y(21,229,(y(17,440,(E(191,r,[((new Cu(((E((E(267,r,((r.cpnqjn=\"\",r.laantf=[],r.bgodnd=0,r.kuydqs=[],r).K&&r.K.a&&((z=r.K.b)&&(r.bgodnd=z),(c=r.K.c)&&(r.cpnqjn=c),(D=r.K.d)&&(r.kuydqs=D),(n=r.K.e)&&(r.laantf=n)),0)),382),r,0),E)(505,r,0),\"Submit\"))).dispose(),2048)]),r),function(R,O,f,b,A){for(A=79;A!=12;)A==36?(f--,A=65):A==83?(O[4]=R.o[4],O[191]=R.o[191],R.o=O,A=12):A==17?A=O?69:78:A==69?(f=Ez(3,8,R),A=15):A==78?(E(267,R,R.v),A=12):A==15?A=65:A==27?(b=C(38,R),O[b]=R.o[b],A=36):A==65?A=f>0?27:83:A==79&&(O=R.rs.pop(),A=17)}),y(23,308,r,function(R,O,f,b){E((f=C((b=C(37,(O=C(36,R),R)),46),R),f),R,J(O,R)||J(b,R))}),r),function(R,O,f,b,A,g){(g=J((b=(f=C((O=C(38,R),36),R),C)(38,R),A=J(f,R),O),R),E)(b,R,g[A])}),r),function(R,O,f,b,A,g,G,l,I,w,a,LN,K,x,P,rD,bH,S,j1){for(S=66;S!=46;)S==83?S=A--?22:9:S==66?(j1=function(t,ZY){for(;b<t;)bH|=Ez(3,8,R)<<b,b+=8;return bH>>=(ZY=bH&(1<<t)-(b-=t,1),t),ZY},x=C(37,R),bH=b=0,LN=(G=j1(3),-2*~(G&1)+-3-(~G^1)),f=j1(5),g=0,w=[],K=0,S=86):S==31?S=83:S==9?(y(22,x,R,function(t,ZY,Oz,U,Pu,Y){for(Y=62;Y!=56;)Y==3?Y=16:Y==13?Y=w[ZY]?1:32:Y==73?(ZY++,Y=99):Y==51?Y=99:Y==54?(U=Oz[U],Y=1):Y==62?(Oz=[],ZY=0,Pu=[],Y=51):Y==89?(t.u=N(25,t,rD.slice()),t.D=N(32,t,Pu),Y=56):Y==79?(U=O[ZY],Y=13):Y==16?Y=U>=Oz.length?25:54:Y==25?(Oz.push(C(46,t)),Y=3):Y==99?Y=ZY<f?79:89:Y==1?(Pu.push(U),Y=73):Y==32&&(Y=16)}),S=46):S==82?(I++,S=35):S==69?S=35:S==63?(g++,S=42):S==47?(P++,S=76):S==42?S=g<f?81:95:S==86?S=42:S==78?(w[P]||(O[P]=j1(a)),S=47):S==76?S=P<f?78:57:S==40?(w[I]&&(O[I]=C(38,R)),S=82):S==95?(a=((K|0)-1).toString(2).length,O=[],P=0,S=43):S==20?S=83:S==81?(l=j1(1),w.push(l),K+=l?0:1,S=63):S==57?(I=0,S=69):S==22?(rD.push(J(C(47,R),R)),S=31):S==43?S=76:S==1?(rD=[],A=LN,S=20):S==35&&(S=I<f?40:1)}),T)),function(R){Ye(R,4)})),4))),[154,0,0])),r),function(R,O,f,b,A,g,G){for(G=50;G!=35;)G==5?G=g==149?93:35:G==22?(R.A=Fo(32,3,R,false),R.P=void 0,G=35):G==44?G=R.F==R?0:35:G==0?(f=J(O,R),A=J(b,R),J(g,R)[A]=f,G=5):G==10?G=A==2?22:35:G==93?(R.P=void 0,G=10):G==50&&(g=C(38,R),b=C(39,R),O=C(47,R),G=44)}),r),function(R){Ye(R,3)}),r),function(R,O,f){(f=(O=C(46,R),J(O,R.F)),f[0]).removeEventListener(f[1],f[2],eO)}),r),[]),r),[]),function(R,O,f,b,A,g,G,l,I,w){for(w=60;w!=48;)w==84?(f=AG(0,R.F,1,8),I=f.bn,l=f.X,g=f.e0,A=f.ln,b=l.length,G=b==0?new A[g]:b==1?new A[g](l[0]):b==2?new A[g](l[0],l[1]):b==3?new A[g](l[0],l[1],l[2]):b==4?new A[g](l[0],l[1],l[2],l[3]):2(),E(I,R,G),w=48):w==60&&(w=TE(3,false,O,true,false,R)?48:84)})),function(R,O,f,b,A,g){for(g=43;g!=39;)g==93?(E(b.bn,R,A.apply(f,b.X)),R.bo=R.I(),g=39):g==43?g=TE(6,false,O,true,false,R)?39:72:g==74?g=R.F==R||A==R.C7&&f==R?93:39:g==72&&(b=AG(0,R,1,8),f=b.ln,A=b.e0,g=74)})),r.Y1=0,hG(4))),function(R){RE(R,1)})),r),function(R,O,f,b,A,g,G,l){f=(g=(l=(A=C(47,(O=(b=C(39,(G=C(46,R),R)),C)(37,R),R)),J)(O,R),J(A,R)),J)(b,R),E(G,R,C(6,1,2,f,g,l,R))}),{})),439),r,function(R,O,f,b,A){E((A=(f=(b=C(47,(O=C(46,R),R)),J(O,R)),vZ(\"splice\",\"array\",f)),b),R,A)}),r),function(R,O){IE(0,480,267,104,(O=J(C(47,R),R),R.F),O)}),function(R,O,f,b,A){E((f=J((O=J((A=C(47,(b=C(38,R),R)),b),R),A),R),A),R,f+O)})),152),r,function(R){RE(R,4)}),E(480,r,[]),0),y(22,169,r,function(R,O,f,b,A,g){(b=J((f=J((A=C((O=C(37,(g=C(47,R),R)),39),R),g),R),O),R),E)(A,R,+(f==b))}),r),function(R,O,f,b,A){(f=J((A=J((b=C(38,(O=C(39,R),R)),O),R)!=0,b),R),A)&&E(267,R,f)}),r),579),260),r,function(R,O,f,b,A){for(A=41;A!=70;)A==41?A=TE(5,false,O,true,false,R)?70:30:A==30&&(b=C(38,R),f=C(39,R),E(f,R,function(g){return eval(g)}(Ku(J(b,R.F)))),A=70)}),0)),hG(4))),function(R,O,f,b,A,g){for(g=61;g!=9;)g==54?(f.push(Ez(3,8,R)),g=4):g==6?g=43:g==36?(E(A,R,f),g=9):g==61?(A=C(38,R),b=N(12,128,R),O=0,f=[],g=6):g==4?(O++,g=43):g==43&&(g=O<b?54:36)})),r),function(R,O,f,b,A,g){E((b=(A=(g=(f=C(37,R),C(36,R)),C(47,R)),J(f,R)),O=J(g,R),A),R,b in O|0)}),r)),function(R,O,f,b,A,g,G,l,I,w,a,LN,K,x,P){for(P=75;P!=0;)if(P==45)f=f>0?f:1,LN=w.length,b=0,P=61;else if(P==39)P=R.F==R?45:0;else if(P==72)b+=f,P=66;else if(P==85)A(w.slice(b,(b|0)+(f|0)),I),P=72;else if(P==66)P=b<LN?85:0;else if(P==89)P=vZ(\"splice\",\"array\",w)==\"object\"?42:39;else if(P==75)P=TE(7,false,O,true,true,R)?0:63;else if(P==61)P=66;else if(P==63)a=C(37,R),G=C(37,R),g=C(46,R),l=C(37,R),f=J(g,R),A=J(G,R),I=J(l,R),w=J(a,R),P=89;else if(P==42){for(x in K=[],w)K.push(x);P=(w=K,39)}})),r.hk=0,r),function(R,O,f,b,A,g,G,l,I,w,a){for(a=56;a!=6;)a==56?(G=C(47,R),g=C(46,R),I=C(39,R),l=C(36,R),O=J(I,R),b=J(G,R.F),A=J(g,R),w=J(l,R),a=73):a==42?(f=C(5,1,2,O,1,w,R,b,A),b.addEventListener(A,f,eO),J(95,R).push(function(){b.removeEventListener(A,f,eO)}),E(505,R,[b,A,f]),a=6):a==73&&(a=b!==0?42:6)}),321),r,function(R,O,f,b){(b=(f=Ez(3,(O=C(39,R),8),R),C(46,R)),E)(b,R,J(O,R)>>>f)}),[])),[])),20),24,r,function(R,O,f){E((O=C(36,(f=C(36,R),R)),O),R,\"\"+J(f,R))}),0)]),r),function(R){N(43,8,4,R)}),y)(21,448,r,function(R,O,f,b,A,g,G,l,I){for(I=97;I!=54;)I==84?I=12:I==94?(b=(G=N(11,128,R),2*(b&G)+(b&~G)+(~b&G))%f,l+=m[g[b]],I=42):I==42?I=12:I==97?(A=C(37,R),O=N(10,128,R),l=\"\",g=J(487,R),f=g.length,b=0,I=84):I==74?(E(A,R,l),I=54):I==12&&(I=O--?94:74)}),164),r,function(){}),iH)],r),mx),d],r),k(0,3,[WZ,Z],r),true),r,true)},Tt=function(Z){return TE.call(this,72,Z)},iy=function(Z,p,r,e,F,d,v,L,D,n,W,c,m,z,R){if(!p.zs&&(v=void 0,Z&&Z[0]===cZ&&(e=Z[1],v=Z[2],Z=void 0),W=J(4,p),W.length==0&&(c=J(382,p)>>3,W.push(e,(m=c>>8,(m|255)- -2+(m|-256)+(~m|255)),-~(c&255)+(~c&255)+(c|-256)),v!=void 0&&W.push(v&255)),F=\"\",Z&&(Z.message&&(F+=Z.message),Z.stack&&(F+=\":\"+Z.stack)),n=J(191,p),n[0]>3)){p.F=(d=(F=OO((n[0]-=(R=(F=F.slice(0,(z=n[0],-(z&-4)-2*(~z^3)-(~z&3)+2*(z|-4))),F.length),2*(R&3)+2*(~R&3)+(R|-4)-(~R|3)),F),0),p).F,p);try{p.DW?(D=(D=J(8,p))&&D[D.length-1]||95,(L=J(r,p))&&L[L.length-1]==D||B(r,p,[D&255])):B(8,p,[95]),B(488,p,q(F.length,2).concat(F),51)}finally{p.F=d}}},Vm=function(){return Ir.call(this,5,14,9)},V=function(Z,p,r,e,F,d,v,L){return TE.call(this,8,Z,p,r,e,F,d,v,L)},BZ=function(Z){return QO.call(this,53,6,Z)},qd=function(Z,p,r,e,F,d){return J((E(267,p,((d=J(267,p),p.EK&&d<p.v)?(E(267,p,p.v),IE(0,Z,267,e,p,F)):E(267,p,F),oE(2048,382,r,p),d)),288),p)},kO=FV(24,3,0,\"Math\",\"object\",this),T=(tU(3,null,1,0,\".\",\"Symbol\",function(Z,p,r,e,F,d){for(d=56;d!=59;){if(d==37)return Z;if(d==11)return F.prototype.toString=function(){return this.n7},p=\"jscomp_symbol_\"+(Math.random()*1E9>>>0)+\"_\",r=0,e;d==56?(F=function(v,L){hU(this,\"description\",(this.n7=v,{configurable:true,writable:true,value:L}))},e=function(v,L){for(L=78;L!=64;)if(L==78)L=this instanceof e?52:42;else{if(L==42)return new F(p+(v||\"\")+\"_\"+r++,v);if(L==52)throw new TypeError(\"Symbol is not a constructor\");}},d=71):d==71&&(d=Z?37:11)}}),this||self),Lu=\"closure_uid_\"+(Math.random()*1E9>>>0),qS,sO=0,AU=function(Z,p,r,e,F,d){for(d=(F=91,74);;)try{if(F==76)break;else{if(F==88)return false;if(F==54)r=false,p=Object.defineProperty({},\"passive\",{get:function(){r=true}}),F=9;else if(F==91)F=T.addEventListener&&Object.defineProperty?54:88;else if(F==9)d=7,Z=function(){},T.addEventListener(\"test\",Z,p),T.removeEventListener(\"test\",Z,p),F=33;else if(F==46)d=74,F=33;else if(F==33)return d=74,r}}catch(v){if(d==74)throw v;d==7&&(e=v,F=46)}}(),CN=\"closure_listenable_\"+((h(KN,2,(rT.prototype.C=(rT.prototype.V=(rT.prototype.dispose=function(Z){for(Z=64;Z!=59;)Z==8?(this.V=true,this.C(),Z=59):Z==64&&(Z=this.V?59:8)},!(KN.prototype.stopPropagation=function(){this.Ht=true},1)),(KN.prototype.preventDefault=function(){this.defaultPrevented=true},rT).prototype[Symbol.dispose]=function(){this.dispose()},function(Z){for(Z=32;Z!=42;)Z==27?(this.Qt.shift()(),Z=24):Z==9?Z=6:Z==32?Z=this.Qt?9:42:Z==6?Z=this.Qt.length?27:42:Z==24&&(Z=6)}),uH),38),uH).prototype.stopPropagation=function(){(uH.l.stopPropagation.call(this),this).F9.stopPropagation?this.F9.stopPropagation():this.F9.cancelBubble=true},uH.prototype.preventDefault=function(Z){(Z=(uH.l.preventDefault.call(this),this.F9),Z).preventDefault?Z.preventDefault():Z.returnValue=false},Math.random()*1E6|0),lH=0,JG=\"constructor hasOwnProperty isPrototypeOf propertyIsEnumerable toLocaleString toString valueOf\".split(\" \"),$O=\"closure_lm_\"+((nN.prototype.remove=(nN.prototype.add=function(Z,p,r,e,F,d,v,L,D,n){for(n=30;n!=95;)if(n==53)n=v>-1?36:73;else if(n==36)D=L[v],n=21;else if(n==21)n=r?79:94;else if(n==93)L=this.H[d]=[],this.ct++,n=9;else if(n==94)D.Rt=false,n=79;else if(n==73)D=new zt(p,F,!!e,this.src,d),D.Rt=r,L.push(D),n=79;else if(n==67)n=L?9:93;else if(n==30)d=Z.toString(),L=this.H[d],n=67;else if(n==9)v=zE(26,0,46,p,e,L,F),n=53;else if(n==79)return D},nN.prototype.S0=function(Z,p,r,e,F,d){return(d=this.H[(F=-1,r).toString()],d&&(F=zE(26,0,42,p,Z,d,e)),F)>-1?d[F]:null},function(Z,p,r,e,F,d,v,L){for(L=33;L!=81;){if(L==59)return false;if(L==15)L=F in this.H?54:90;else if(L==61)L=v>-1?18:59;else if(L==54)d=this.H[F],v=zE(26,0,44,p,r,d,e),L=61;else{if(L==96)return true;if(L==90)return false;L==2?(delete this.H[F],this.ct--,L=96):L==18?(FV(24,73,true,d[v]),Array.prototype.splice.call(d,v,1),L=46):L==46?L=d.length==0?2:96:L==33&&(F=Z.toString(),L=15)}}}),nN.prototype.hasListener=function(Z,p,r,e,F){return nu(48,(F=p!==void 0,r=(e=Z!==void 0)?Z.toString():\"\",38),this.H,function(d,v,L){for(L=26;L!=72;)if(L==91)L=v<d.length?25:42;else if(L==26)v=0,L=75;else if(L==3)++v,L=91;else if(L==25)L=e&&d[v].type!=r||F&&d[v].capture!=p?3:9;else{if(L==9)return true;if(L==42)return false;L==75&&(L=91)}},true,16,false)},Math).random()*1E6|0),Uz={},fN=0,vu=\"__closure_events_fn_\"+(Math.random()*1E9>>>0);(((X=((h(rT,2,Bu,22),Bu).prototype[CN]=true,Bu.prototype),X.JM=function(Z){this.LP=Z},X.addEventListener=function(Z,p,r,e){wD(87,\"object\",64,0,this,Z,e,p,r)},X.removeEventListener=function(Z,p,r,e){dD(\"object\",0,17,Z,e,p,r,this)},X).dispatchEvent=function(Z,p,r,e,F,d,v,L,D,n,W,c){for(c=69;c!=90;)if(c==14)D=[],c=84;else if(c==40)e=true,c=77;else if(c==77)c=F?16:29;else{if(c==66)return e;c==16?(p=F.length-1,c=67):c==4?c=typeof L===\"string\"?80:34:c==84?c=59:c==83?(p++,c=31):c==60?(d=L,L=new KN(v,W),ke(L,d),c=40):c==3?c=31:c==52?(p--,c=87):c==55?c=F?76:66:c==92?(n=L.currentTarget=F[p],e=Q(28,true,L,n,v,false)&&e,c=83):c==80?(L=new KN(L,W),c=40):c==2?(D.push(r),c=38):c==69?(r=this.LP,c=28):c==94?(n=L.currentTarget=F[p],e=Q(29,true,L,n,v,true)&&e,c=52):c==38?(r=r.LP,c=59):c==29?c=L.Ht?55:64:c==34?c=L instanceof KN?11:60:c==59?c=r?2:39:c==39?(W=this.K7,F=D,L=Z,v=L.type||L,c=4):c==76?(p=0,c=3):c==28?c=r?14:39:c==31?c=!L.Ht&&p<F.length?92:66:c==64?(n=L.currentTarget=W,e=Q(26,true,L,n,v,true)&&e,L.Ht||(e=Q(27,true,L,n,v,false)&&e),c=55):c==11?(L.target=L.target||W,c=40):c==67?c=87:c==87&&(c=!L.Ht&&p>=0?94:29)}},X).S0=function(Z,p,r,e){return this.i.S0(Z,p,String(r),e)},X).C=function(){(Bu.l.C.call(this),this.i&&H(8,0,true,this.i),this).LP=null},X.hasListener=function(Z,p){return this.i.hasListener(Z!==void 0?String(Z):void 0,p)};var S1;(((((h(Bu,(((y(((((X=(\"ARTICLE SECTION NAV ASIDE H1 H2 H3 H4 H5 H6 HEADER FOOTER ADDRESS P HR PRE BLOCKQUOTE OL UL LH LI DL DT DD FIGURE FIGCAPTION MAIN DIV EM STRONG SMALL S CITE Q DFN ABBR RUBY RB RT RTC RP DATA TIME CODE VAR SAMP KBD SUB SUP I B U MARK BDI BDO SPAN BR WBR NOBR INS DEL PICTURE PARAM TRACK MAP TABLE CAPTION COLGROUP COL TBODY THEAD TFOOT TR TD TH SELECT DATALIST OPTGROUP OPTION OUTPUT PROGRESS METER FIELDSET LEGEND DETAILS SUMMARY MENU DIALOG SLOT CANVAS FONT CENTER ACRONYM BASEFONT BIG DIR HGROUP STRIKE TT\".split(\" \").concat([\"BUTTON\",\"INPUT\"]),XV.prototype),X).N=function(Z,p){return typeof Z===(p=this.CP,\"string\")?p.getElementById(Z):Z},X.getElementsByTagName=function(Z,p){return(p||this.CP).getElementsByTagName(String(Z))},X).createElement=function(Z,p,r){return((p=String(Z),r=this.CP,r.contentType)===\"application/xhtml+xml\"&&(p=p.toLowerCase()),r).createElement(p)},X.createTextNode=function(Z){return this.CP.createTextNode(String(Z))},X.appendChild=function(Z,p){Z.appendChild(p)},X).append=function(Z,p){PZ(\"object\",Z.nodeType==9?Z:Z.ownerDocument||Z.document,arguments,Z,\"number\",\"string\",0)},X.canHaveChildren=function(Z,p){for(p=37;p!=72;){if(p==29){switch(Z.tagName){case \"APPLET\":case \"AREA\":case \"BASE\":case \"BR\":case \"COL\":case \"COMMAND\":case \"EMBED\":case \"FRAME\":case \"HR\":case \"IMG\":case \"INPUT\":case \"IFRAME\":case \"ISINDEX\":case \"KEYGEN\":case \"LINK\":case \"NOFRAMES\":case \"NOSCRIPT\":case \"META\":case \"OBJECT\":case \"PARAM\":case \"SCRIPT\":case \"SOURCE\":case \"STYLE\":case \"TRACK\":case \"WBR\":return false}return true}if(p==9)return false;p==37&&(p=Z.nodeType!=1?9:29)}},X.removeNode=BZ,X.contains=function(Z,p,r,e){for(e=16;e!=59;)if(e==16)e=Z&&p?30:51;else if(e==30)e=Z.contains&&p.nodeType==1?91:74;else if(e==0)p=p.parentNode,e=15;else{if(e==32)return Z==p||!!(r=Z.compareDocumentPosition(p),-1-~r-(r&-17));if(e==91)return Z==p||Z.contains(p);if(e==76)e=p&&Z!=p?0:92;else{if(e==92)return p==Z;if(e==74)e=typeof Z.compareDocumentPosition!=\"undefined\"?32:58;else{if(e==51)return false;e==58?e=76:e==15&&(e=76)}}}},36),Vm),Vm.prototype).vM=0,Vm).prototype.gq=\"\",2),yO,54),X=yO.prototype,X.Ts=Vm.ZW(),X).N=function(){return this.J},X.getParent=function(){return this.zd},X).JM=function(Z,p){for(p=48;p!=9;){if(p==54)throw Error(\"Method not supported\");p==48?p=this.zd&&this.zd!=Z?54:6:p==6&&(yO.l.JM.call(this,Z),p=9)}},X).pP=function(){this.m9=!(H(10,function(Z){Z.m9&&Z.pP()},this),this.ot&&H(5,0,true,this.ot),1)},X).C=function(Z){for(Z=22;Z!=15;)Z==22?(this.m9&&this.pP(),Z=84):Z==84?Z=this.ot?58:74:Z==74?(H(17,function(p){p.dispose()},this),!this.Ak&&this.J&&BZ(this.J),this.zd=this.io=this.J=this.xw=null,yO.l.C.call(this),Z=15):Z==58&&(this.ot.dispose(),delete this.ot,Z=74)},X).removeChild=function(Z,p,r,e,F,d,v,L,D,n,W,c,m){for(m=29;m!=71;)if(m==6)L=this.xw,e in L&&delete L[e],H(70,0,this.io,Z),m=3;else if(m==58)m=F==null?23:38;else if(m==29)m=Z?34:2;else if(m==3)m=p?13:85;else if(m==89)Z=r,m=27;else if(m==62)W=Z,m=50;else if(m==34)m=typeof Z===\"string\"?62:73;else if(m==50)e=W,m=28;else if(m==2)m=Z?78:39;else if(m==28)m=this.xw&&e?46:33;else{if(m==78)return Z;if(m==23)throw Error(\"Unable to set parent component\");if(m==33)r=null,m=89;else if(m==27)m=e&&Z?6:2;else if(m==38)F.zd=null,yO.l.JM.call(F,null),m=2;else if(m==56)d=Z.Ts,n=Z,c=d.gq+\":\"+(d.vM++).toString(36),D=n.oe=c,m=14;else if(m==85)F=Z,m=58;else if(m==46)v=this.xw,r=(v!==null&&e in v?v[e]:void 0)||null,m=89;else{if(m==39)throw Error(\"Child is not in parent component\");m==73?m=(D=Z.oe)?14:56:m==14?(W=D,m=50):m==13&&(Z.pP(),Z.J&&BZ(Z.J),m=85)}}};var Xo,Md={button:\"pressed\",checkbox:\"checked\",menuitem:\"selected\",menuitemcheckbox:\"checked\",menuitemradio:\"checked\",radio:\"checked\",tab:\"selected\",treeitem:(y(33,HZ),X=HZ.prototype,X.Vt=function(){return\"goog-control\"},\"selected\")},ar=((y(35,(h(HZ,2,(X.L=(X.ws=function(Z,p,r,e,F,d,v,L){(e=Z.getAttribute((F=(Xo||(Xo={1:\"disabled\",8:\"selected\",16:\"checked\",64:\"expanded\"}),Xo[p]),\"role\"))||null)?(d=Md[e]||F,v=F==\"checked\"||F==\"selected\"?d:F):v=F,(L=v)&&gD(L,\"false\",\" \",r,16,Z)},X.AM=function(Z,p,r,e,F,d,v,L,D){for(D=5,v=9;;)try{if(D==73)break;else D==92?D=!p&&Z.W&32?64:69:D==2?D=p?66:87:D==5?D=Z.lo&32&&(F=Z.vt())?92:73:D==27?(Z.UK&4&&Z.lo&4&&Z.setActive(false),Z.UK&32&&Z.lo&32&&u(2,56,Z,32,false)&&Z.L(false,32),D=69):D==41?D=Z.W&32?27:69:D==36?D=d!=p?81:73:D==69?D=(d=F.hasAttribute(\"tabindex\"))?1:36:D==66?(r.tabIndex=0,D=73):D==64?(v=38,F.blur(),D=3):D==87?(r.tabIndex=-1,r.removeAttribute(\"tabIndex\"),D=73):D==75?(v=9,D=3):D==1?(e=F.tabIndex,d=typeof e===\"number\"&&e>=0&&e<32768,D=36):D==3?(v=9,D=41):D==81&&(r=F,D=2)}catch(n){if(v==9)throw n;v==38&&(L=n,D=75)}},function(Z,p,r,e,F,d,v){for(v=38;v!=84;)v==38?(d=p.N(),v=98):v==47?v=this.qc?51:19:v==19?(e=this.Vt(),e.replace(/\\\\xa0|\\\\s/g,\" \"),this.qc={1:e+\"-disabled\",2:e+\"-hover\",4:e+\"-active\",8:e+\"-selected\",16:e+\"-checked\",32:e+\"-focused\",64:e+\"-open\"},v=51):v==51?((F=this.qc[Z])&&this.yt(p,F,r),this.ws(d,Z,r),v=84):v==98&&(v=d?47:84)}),X.yt=(X.vt=function(Z){return Z.N()},function(Z,p,r,e){(e=Z.N?Z.N():Z)&&(r?by:ly)(e,[p])}),ym),22),ym)),ym).prototype.ws=function(Z,p,r){switch(p){case 8:case 16:gD(\"pressed\",\"false\",\" \",r,11,Z);break;default:case 64:case 1:ym.l.ws.call(this,Z,p,r)}},ym.prototype.Vt=function(){return\"goog-button\"},{});if(((((((((h(yO,2,V,38),X=V.prototype,X.W=0,X.pP=function(){(V.l.pP.call(this),this.Gd&&this.Gd.detach(),this.isVisible())&&this.isEnabled()&&this.g.AM(this,false)},X.vt=function(){return this.g.vt(this)},X.lo=39,X.yt=function(Z,p,r){for(r=11;r!=6;)r==49?(this.Z=null,r=75):r==75?(this.g.yt(this,Z,false),r=6):r==94?r=Z?40:6:r==40?(this.Z?zE(26,1,40,Z,this.Z)||this.Z.push(Z):this.Z=[Z],this.g.yt(this,Z,true),r=6):r==63?r=Z&&this.Z&&H(71,0,this.Z,Z)?64:6:r==64?r=this.Z.length==0?49:75:r==11&&(r=p?94:63)},X).Z=null,X.C=function(Z){for(Z=37;Z!=88;)Z==37?(V.l.C.call(this),Z=60):Z==86?(delete this.g,this.Z=null,Z=88):Z==60?Z=this.Gd?33:86:Z==33&&(this.Gd.dispose(),delete this.Gd,Z=86)},X).Sr=0,X.UK=255,X.PM=true,X).isVisible=function(){return this.PM},X).isEnabled=function(){return!(this.W&1)},X).isActive=function(){return!!(this.W&4)},X).setActive=function(Z){u(2,60,this,4,Z)&&this.L(Z,4)},X).getState=function(){return this.W},X).L=function(Z,p,r,e,F,d,v){for(v=23;v!=51;)v==71?v=this.lo&p&&Z!=!!(this.W&p)?54:51:v==16?(this.isVisible()&&this.g.AM(this,d),this.L(!d,1,true),v=51):v==45?(d=!Z,F=this.getParent(),v=88):v==29?v=d?16:39:v==39?(this.setActive(false),u(2,59,this,2,false)&&this.L(false,2),v=16):v==88?v=F&&typeof F.isEnabled==\"function\"&&!F.isEnabled()||!u(2,57,this,1,!d)?51:29:v==23?v=r||p!=1?71:45:v==54&&(this.g.L(p,this,Z),this.W=Z?(e=this.W,1-~(e|p)+2*(~e&p)+2*(e|~p)):this.W&~p,v=51)},typeof V!==\"function\")throw Error(\"Invalid component class \"+V);if(typeof HZ!==\"function\")throw Error(\"Invalid renderer class \"+HZ);var xe=k(V,6),cu=(FV(24,(h(V,2,((((y(34,(h(ym,2,xO,(FV(24,24,(ar[xe]=HZ,function(){return new V(null)}),\"goog-control\"),70)),xO)),xO).prototype.AM=function(){},xO.prototype).ws=function(){},xO.prototype).L=function(Z,p,r,e,F){for(F=26;F!=83;)F==88?F=e&&Z==1?21:83:F==26?(xO.l.L.call(this,Z,p,r),e=p.N(),F=88):F==21&&(e.disabled=r,F=83)},Cu),86),Cu.prototype.C=function(){delete (Cu.l.C.call(this),this).Fe,delete this.VO},25),function(){return new Cu(null)},\"goog-button\"),T.requestIdleCallback)?function(Z){requestIdleCallback(function(){Z()},{timeout:4})}:T.setImmediate?function(Z){setImmediate(Z)}:function(Z){setTimeout(Z,0)},NS,eO={passive:true,capture:true},fu=String.fromCharCode(105,110,116,101,103,67,104,101,99,107,66,121,112,97,115,115),Zu=[],dT=[],mx=(M.prototype.Gs=false,M.prototype.tk=void 0,[]),SO=[],or=(M.prototype.Ux=void 0,[]),WZ=[],$e=[],cZ={},iH=(M.prototype.sK=\"toString\",[]),YO=((((((gT,function(){})(hG),EO,function(){})(aE),function(){})(Du),function(){})(Qm),M).prototype.T=\"create\",cZ.constructor),GE=(((((X=M.prototype,X).sx=0,X.fP=function(Z,p,r,e,F,d){return C.call(this,20,Z,p,r,e,F,d)},X).I=(window.performance||{}).now?function(){return this.wq+window.performance.now()}:function(){return+new Date},X).BM=function(Z,p,r,e,F,d,v,L,D,n,W){return h.call(this,r,Z,p,7,e,F,d,v,L,D,n,W)},X).NO=function(){return Wu.call(this,39,18)},X.Jk=function(Z,p,r,e,F){return Hu.call(this,16,Z,p,r,e,F)},X.DA=function(Z,p,r,e,F,d,v){return TE.call(this,48,Z,p,r,e,F,d,v)},void 0),uy=((((X=(X.WM=function(){return QO.call(this,53,23)},M).prototype,X).O=function(Z,p){return Z=(GE=function(){return p==Z?0:65},p={},{}),function(r,e,F,d,v,L,D,n,W,c,m,z,R,O,f,b,A,g,G,l,I,w,a,LN,K,x,P,rD,bH,S,j1,t,ZY,Oz,U,Pu,Y){for(S=(Y=(U=undefined,52),71),t=false;;)try{if(S==27)break;else if(S==49)S=e==or?68:32;else if(S==32)S=e==Zu?35:38;else if(S==66)R=f,J(488,this).length=P.shift(),J(469,this).length=P.shift(),J(31,this).length=P.shift(),J(480,this).length=P.shift(),J(191,this)[0]=P.shift(),J(390,this).length=P.shift(),J(50,this).length=P.shift(),J(8,this).length=P.shift(),j1=R,U=2,S=29;else if(S==85)l[c++]=D,S=56;else if(S==16)Y=38,bH(),S=93;else if(S==69)Y=32,this.F=z,S=45;else if(S==1)w=0,f=\"\",S=80;else if(S==20)S=f?24:1;else if(S==22)P=r[2],K=q((O=J(390,this).length,2*(O|2)-(O&-3)-(~O&2)),2),z=this.F,this.F=this,S=37;else if(S==51)D=b.charCodeAt(G),S=61;else if(S==68)qd(480,this,r[2],104,r[1]),S=29;else if(S==21)Y=32,oE(2048,382,8001,this),S=29;else if(S==56)G++,S=55;else if(S==72)S=28;else if(S==71)d=p,p=Z,S=47;else if(S==24)f=\"*\"+f,S=66;else if(S==80)S=18;else if(S==44)Y=32,S=93;else if(S==37)Y=33,L=J(4,this),L.length>0&&B(390,this,q(L.length,2).concat(L),48),B(390,this,q(this.j+1>>1,1),87),B(390,this,q(this[$e].length,1)),g=this.DW?J(480,this):J(8,this),g.length>0&&B(50,this,q(g.length,2).concat(g),64),A=J(50,this),A.length>4&&B(390,this,q(A.length,2).concat(A),65),F=0,F-=(J(390,this).length|0)+5,rD=J(488,this),F+=J(284,this)&2047,rD.length>4&&(F-=(rD.length|0)+3),F>0&&B(390,this,q(F,2).concat(hG(F)),53),rD.length>4&&B(390,this,q(rD.length,2).concat(rD),166),S=69;else{if(S==6)return j1;if(S==43)Y=32,iy(Oz,this,480,17),U=27,S=29;else if(S==75)Y=32,m=hG(2).concat(J(390,this)),m[1]=m[0]^60,m[3]=m[1]^K[0],m[4]=m[1]^K[1],f=this.Re(m),S=20;else if(S==77)LN=r[1],S=46;else if(S==38)S=e==SO?10:29;else if(S==47)Y=32,e=r[0],S=15;else if(S==52)S=e==$e?22:49;else if(S==15)S=e==mx?77:67;else if(S==93)x=W.next(),S=28;else if(S==90)l[c++]=D&255,D>>=8,S=85;else if(S==88)w++,S=18;else if(S==45)S=U!==undefined?29:75;else if(S==29)Y=52,p=d,S=87;else if(S==78)r[1].push(J(488,this).length,J(469,this).length,J(31,this).length,J(480,this).length,J(191,this)[0],J(390,this).length,J(50,this).length,J(8,this).length),E(288,this,r[2]),this.o[74]&&qd(480,this,8001,104,J(74,this)),S=29;else{if(S==2)return j1;if(S==34)S=55;else if(S==35)j1=qd(480,this,8001,104,r[1]),U=6,S=29;else if(S==28)S=x.done?70:79;else if(S==87)U!==undefined?(S=U,U=undefined):S=27;else if(S==46)Y=13,b=atob(LN),c=0,l=[],G=0,S=34;else if(S==61)S=D>255?90:85;else if(S==79)bH=x.value,S=16;else if(S==67)S=e==dT?78:52;else if(S==70)v.length=0,S=29;else if(S==11)this.EK=l,this.v=this.EK.length<<3,E(149,this,[0,0,0]),S=21;else if(S==10){if(v=J(95,this),I=typeof Symbol!=\"undefined\"&&Symbol.iterator&&v[Symbol.iterator])n=I.call(v);else if(typeof v.length==\"number\")n={next:dD(0,v,3)};else throw Error(String(v)+\" is not an iterable or ArrayLike\");x=(W=n,W.next()),S=72}else if(S==18)S=w<m.length?23:66;else if(S==23)a=m[w][this.sK](16),a.length==1&&(a=\"0\"+a),f+=a,S=88;else if(S==55)S=G<b.length?51:11;else if(S==76)throw Pu;}}}catch(VO){if((Pu=VO,Y)==52)throw VO;Y==38?(ZY=VO,S=44):Y==33?(U=76,S=69):Y==13?(Oz=VO,S=43):Y==32&&(U=76,S=29)}}}(),X.rq=0,X).jr=0,X).Re=function(Z,p,r,e,F){return nu.call(this,48,38,r,e,p,7,Z,F)},/./),tG,rU=mx.pop.bind((X.X9=(X.Ie=function(){return Q.call(this,3)},function(){return FV.call(this,24,16)}),M.prototype[WZ]=[0,0,1,1,0,1,1],M).prototype[dT]),Ku=function(Z,p){return(p=UO(99,63,96,43,\"ks\",\"error\",null))&&Z.eval(p.createScript(\"1\"))===1?function(r){return p.createScript(r)}:function(r){return\"\"+r}}(((tG=jO(4,(uy[M.prototype.sK]=rU,22),{get:rU},M.prototype.T),M.prototype).Ox=void 0,T));((NS=T.knitsail||(T.knitsail={}),NS).m>40||(NS.m=41,NS.ks=wT,NS.a=DY),NS).uUY_=function(Z,p,r,e,F,d,v,L){return[(L=new M(p,d,e,v,Z,F),function(D){return dD(false,L,28,D)}),function(D){L.X9(D)}]};}).call(this);'].join('\\n')));}).call(this);\n",
      "  </script>\n",
      "  <script nonce=\"1oRuC9NOf7QuJkERXFvQRg\">\n",
      "   (function(){var r='1';var ce=30;var p='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';var g='knitsail';var eid='oh6LZ-PtK66QseMPsM6LoAE';var ss_cgi=false;var sp='';(function(){var f=function(a){var b=0;return function(){return b<a.length?{done:!1,value:a[b++]}:{done:!0}}},l=function(a){var b=typeof Symbol!=\"undefined\"&&Symbol.iterator&&a[Symbol.iterator];if(b)return b.call(a);if(typeof a.length==\"number\")return{next:f(a)};throw Error(\"a`\"+String(a));};\n",
      "var m=this||self;var t=function(){var a=location.href;this.i=this.j=\"\";var b=a.indexOf(\"#\");b>0&&(this.j=a.substring(b),a=a.substring(0,b));b=a.indexOf(\"?\");b>0&&(this.i=\"&\"+a.substring(b+1),a=a.substring(0,b));this.A=a},x=function(a,b,c){u(a,b);a.i=a.i+\"&\"+b+\"=\"+c},u=function(a,b){a.i=a.i.replace(new RegExp(\"&\"+b+\"=([^&]+)\",\"g\"),\"\")};t.prototype.toString=function(){return\"\"+this.A+(this.i?\"?\"+this.i.substring(1):\"\")+this.j};var y=m.JSON.parse,z=m.JSON.stringify;function A(a,b,c,h,d,k){d=d===void 0?\"m\":d;k=k===void 0?!0:k;var C=!1;try{if(d!=\"x\"){var v=a==\"s\"?window.sessionStorage:window.localStorage,e=v.getItem(\"_c;;i\");if(e){var n=e.indexOf(\"_\");var q=n<0?null:y(e.substr(n+1))}else q=null;e=q||0;var w=\"p:*|l:9007199254740991_\"+z(e+1);v.setItem(\"_c;;i\",w);var D=e;w=b;e=c;q=d;n=D;var M=z(h);v.setItem(w+\";;\"+e,\"p:\"+q+\"|l:\"+(n+\"_\")+M);C=!0}}catch(R){}k&&(m.mPPkxd||(m.mPPkxd=[]),m.mPPkxd.push([C,arguments,D]))};\n",
      "var B=function(a){this.i=a};B.prototype.toString=function(){return this.i};var E=function(a){this.v=a};function F(a){return new E(function(b){return b.substr(0,a.length+1).toLowerCase()===a+\":\"})}var G=[F(\"data\"),F(\"http\"),F(\"https\"),F(\"mailto\"),F(\"ftp\"),new E(function(a){return/^[^:]*([/?#]|$)/.test(a)})],H=/^\\s*(?!javascript:)(?:[\\w+.-]+:|[^:/?#]*(?:[/?#]|$))/i;function I(){var a=m[g];if(a){a=l((0,a.a)(p,function(){},!1)).next().value;var b=location.href.match(/(\\?|&)q=([^&]+)/);return a([{q:b!==null?b[2]:\"\"}])}J(Error(\"c\"))}\n",
      "function K(a){var b=new Date;b.setSeconds(b.getSeconds()+(Number(ce)||300));var c=\"SG_SS=\"+a,h=document.cookie.length+c.length;if(r){h<4093&&!ss_cgi&&(document.cookie=c+(\"; expires=\"+b.toUTCString()));var d,k;((d=performance)==null?0:(k=d.timing)==null?0:k.navigationStart)&&A(\"s\",\"sg_pns\",eid,String(performance.timing.navigationStart));ss_cgi||document.cookie.indexOf(\"SG_SS=\")<0?L(a):N(O())}}function O(){var a=eid,b=new t;u(b,\"sg_ss\");x(b,\"sei\",a);return b.toString()}\n",
      "function L(a){var b=eid,c=new t;x(c,\"sg_ss\",encodeURIComponent(a));x(c,\"sei\",b);N(c.toString())}function P(a){if(window.prs){var b=O();window.prs(b,a).catch(function(){L(a)})}else L(a)}function N(a){window.prs?window.prs(a).catch(function(){Q(a)}):Q(a)}\n",
      "function Q(a){if(window.pr)window.pr(a);else{a:{var b=b===void 0?G:b;if(a instanceof B)b=a;else{for(var c=0;c<b.length;++c){var h=b[c];if(h instanceof E&&h.v(a)){b=new B(a);break a}}b=void 0}}a=location;if(b instanceof B)if(b instanceof B)b=b.i;else throw Error(\"b\");else b=H.test(b)?b:void 0;b!==void 0&&a.replace(b)}}function J(a){navigator.sendBeacon(\"/gen_204?cad=sg_b_e&e=\"+a,\"\")};navigator||(m.navigator={});typeof navigator.sendBeacon!==\"function\"&&(navigator.sendBeacon=function(a){(new Image).src=a});window.onerror=function(a,b,c,h,d){navigator.sendBeacon(\"/gen_204?emsg=\"+(d instanceof Error?d.message:a)+\"&srcpg=sgs&jsr=1&jsel=3\")};(function(){try{var a;window.sgs&&sp&&(a=window.sgs(sp));var b=I();b&&(a?a.then(function(c){r&&P(c)}).catch(function(){K(b)}).catch(J):K(b))}catch(c){J(c)}})();}).call(this);})();\n",
      "  </script>\n",
      "  <script nonce=\"1oRuC9NOf7QuJkERXFvQRg\">\n",
      "   (function(){var cssId='java-com-google-gws-common-impl-searchguard-jslayout__broken-text';function sw(){document.getElementById(cssId).setAttribute('style','');navigator.sendBeacon(`/gen_204?cad=sg_trbl&ei=${data.event_id}`,'');}\n",
      "setTimeout(sw,2000);})();\n",
      "  </script>\n",
      "  <div id=\"java-com-google-gws-common-impl-searchguard-jslayout__broken-text\" style=\"display:none\">\n",
      "   If you're having trouble accessing Google Search, please\n",
      "   <a href=\"/search?q=tren+pasar+laptop+2025&amp;sca_esv=567ab18d067741e3&amp;rlz=1C1ONGR_enID1087ID1087&amp;emsg=SG_REL&amp;sei=oh6LZ-PtK66QseMPsM6LoAE\">\n",
      "    click here\n",
      "   </a>\n",
      "   , or send\n",
      "   <a href=\"https://support.google.com/websearch\">\n",
      "    feedback\n",
      "   </a>\n",
      "   .\n",
      "  </div>\n",
      " </body>\n",
      "</html>\n",
      "\n"
     ]
    }
   ],
   "source": [
    "print(soup.prettify())"
   ]
  },
  {
   "cell_type": "code",
   "execution_count": 35,
   "metadata": {},
   "outputs": [],
   "source": [
    "# Data lists\n",
    "titles = []\n",
    "links = []\n",
    "sources = []\n",
    "timestamps = []\n",
    "\n",
    "# Scraping elements\n",
    "for result in soup.find_all(\"div\", class_=\"N54PNb BToiNc\"):\n",
    "    # Title\n",
    "    title = result.find(\"h3\", class_=\"LC20lb MBeuO DKV0Md\")\n",
    "    titles.append(title.text if title else None)\n",
    "    print(title)\n",
    "\n",
    "    # Link\n",
    "    link = result.find(\"a\", attrs={\"jsname\": \"UWckNb\"})\n",
    "    links.append(link['href'] if link else None)\n",
    "\n",
    "    # Source\n",
    "    source = result.find(\"span\", class_=\"VuuXrf\")\n",
    "    sources.append(source.text if source else None)\n",
    "\n",
    "    # Timestamp\n",
    "    timestamp = result.find(\"span\", class_=\"LEwnzc Sqrs4e\")\n",
    "    timestamps.append(timestamp.text if timestamp else None)\n"
   ]
  },
  {
   "cell_type": "code",
   "execution_count": 13,
   "metadata": {},
   "outputs": [],
   "source": [
    "# def get_element_text(element):\n",
    "#     \"\"\"Safely extract text from a BeautifulSoup element.\n",
    "    \n",
    "#     Args:\n",
    "#         element: BeautifulSoup element or None\n",
    "#     Returns:\n",
    "#         str: Text content or None if element doesn't exist\n",
    "#     \"\"\"\n",
    "#     try:\n",
    "#         return element.text if element else None\n",
    "#     except AttributeError:\n",
    "#         return None"
   ]
  },
  {
   "cell_type": "code",
   "execution_count": 14,
   "metadata": {},
   "outputs": [],
   "source": [
    "# # Data lists\n",
    "# titles = []\n",
    "# links = []\n",
    "# sources = []\n",
    "# timestamps = []\n",
    "\n",
    "# # Scraping elements\n",
    "# for result in soup.select(\"div.tF2Cxc\"):\n",
    "#     # Title\n",
    "#     title = get_element_text(result.select_one(\"h3.LC20lb.MBeuO.DKV0Md\"))\n",
    "#     titles.append(title)\n",
    "    \n",
    "#     # Link\n",
    "#     link = result.select_one(\"a[jsname='UWckNb']\")\n",
    "#     links.append(link.get('href') if link else None)\n",
    "    \n",
    "#     # Source\n",
    "#     source = get_element_text(result.select_one(\"span.VuuXrf\"))\n",
    "#     sources.append(source)\n",
    "    \n",
    "#     # Timestamp\n",
    "#     timestamp = get_element_text(result.select_one(\"span.LEwnzc.Sqrs4e\"))\n",
    "#     timestamps.append(timestamp)\n"
   ]
  },
  {
   "cell_type": "code",
   "execution_count": 25,
   "metadata": {},
   "outputs": [
    {
     "data": {
      "text/html": [
       "<div>\n",
       "<style scoped>\n",
       "    .dataframe tbody tr th:only-of-type {\n",
       "        vertical-align: middle;\n",
       "    }\n",
       "\n",
       "    .dataframe tbody tr th {\n",
       "        vertical-align: top;\n",
       "    }\n",
       "\n",
       "    .dataframe thead th {\n",
       "        text-align: right;\n",
       "    }\n",
       "</style>\n",
       "<table border=\"1\" class=\"dataframe\">\n",
       "  <thead>\n",
       "    <tr style=\"text-align: right;\">\n",
       "      <th></th>\n",
       "      <th>Title</th>\n",
       "      <th>Link</th>\n",
       "      <th>Source</th>\n",
       "      <th>Timestamp</th>\n",
       "    </tr>\n",
       "  </thead>\n",
       "  <tbody>\n",
       "  </tbody>\n",
       "</table>\n",
       "</div>"
      ],
      "text/plain": [
       "Empty DataFrame\n",
       "Columns: [Title, Link, Source, Timestamp]\n",
       "Index: []"
      ]
     },
     "execution_count": 25,
     "metadata": {},
     "output_type": "execute_result"
    }
   ],
   "source": [
    "# Create DataFrame\n",
    "data = pd.DataFrame({\n",
    "    \"Title\": titles,\n",
    "    \"Link\": links,\n",
    "    \"Source\": sources,\n",
    "    \"Timestamp\": timestamps\n",
    "})\n",
    "data"
   ]
  },
  {
   "cell_type": "markdown",
   "metadata": {},
   "source": [
    "### WEB driver"
   ]
  },
  {
   "cell_type": "code",
   "execution_count": 59,
   "metadata": {},
   "outputs": [],
   "source": [
    "from selenium import webdriver\n",
    "from selenium.webdriver.common.by import By\n",
    "import pandas as pd"
   ]
  },
  {
   "cell_type": "code",
   "execution_count": 60,
   "metadata": {},
   "outputs": [],
   "source": [
    "# URL Google Search\n",
    "url = \"https://www.google.com/search?q=tren+pasar+laptop+2025&rlz=1C1ONGR_enID1087ID1087&oq=tren+pasar+laptop+2025&gs_lcrp=EgZjaHJvbWUyBggAEEUYOTIHCAEQIRigAdIBCDY5NTdqMGo3qAIIsAIB&sourceid=chrome&ie=UTF-8\"\n",
    "\n",
    "# Set up WebDriver (non-headless mode)\n",
    "driver = webdriver.Chrome()\n",
    "driver.get(url)"
   ]
  },
  {
   "cell_type": "code",
   "execution_count": 61,
   "metadata": {},
   "outputs": [],
   "source": [
    "# Data lists\n",
    "titles = []\n",
    "links = []\n",
    "sources = []\n",
    "timestamps = []"
   ]
  },
  {
   "cell_type": "code",
   "execution_count": 62,
   "metadata": {},
   "outputs": [],
   "source": [
    "results = driver.find_elements(By.CSS_SELECTOR, \"div.tF2Cxc\")\n",
    "for result in results:\n",
    "    # Title\n",
    "    try:\n",
    "        title = result.find_element(By.CSS_SELECTOR, \"h3.LC20lb.MBeuO.DKV0Md\").text\n",
    "    except:\n",
    "        title = None\n",
    "    titles.append(title)\n",
    "\n",
    "    # Link\n",
    "    try:\n",
    "        link = result.find_element(By.CSS_SELECTOR, \"a[jsname='UWckNb']\").get_attribute(\"href\")\n",
    "    except:\n",
    "        link = None\n",
    "    links.append(link)\n",
    "\n",
    "    # Source\n",
    "    try:\n",
    "        source = result.find_element(By.CSS_SELECTOR, \"span.VuuXrf\").text\n",
    "    except:\n",
    "        source = None\n",
    "    sources.append(source)\n",
    "\n",
    "    # Timestamp\n",
    "    try:\n",
    "        timestamp = result.find_element(By.CSS_SELECTOR, \"span.LEwnzc.Sqrs4e\").text\n",
    "    except:\n",
    "        timestamp = None\n",
    "    timestamps.append(timestamp)"
   ]
  },
  {
   "cell_type": "code",
   "execution_count": 63,
   "metadata": {},
   "outputs": [
    {
     "data": {
      "text/html": [
       "<div>\n",
       "<style scoped>\n",
       "    .dataframe tbody tr th:only-of-type {\n",
       "        vertical-align: middle;\n",
       "    }\n",
       "\n",
       "    .dataframe tbody tr th {\n",
       "        vertical-align: top;\n",
       "    }\n",
       "\n",
       "    .dataframe thead th {\n",
       "        text-align: right;\n",
       "    }\n",
       "</style>\n",
       "<table border=\"1\" class=\"dataframe\">\n",
       "  <thead>\n",
       "    <tr style=\"text-align: right;\">\n",
       "      <th></th>\n",
       "      <th>Title</th>\n",
       "      <th>Link</th>\n",
       "      <th>Source</th>\n",
       "      <th>Timestamp</th>\n",
       "    </tr>\n",
       "  </thead>\n",
       "  <tbody>\n",
       "    <tr>\n",
       "      <th>0</th>\n",
       "      <td>Laporan Prospek PC/Laptop 2025</td>\n",
       "      <td>https://translate.google.com/translate?u=https...</td>\n",
       "      <td>TechInsights</td>\n",
       "      <td>None</td>\n",
       "    </tr>\n",
       "    <tr>\n",
       "      <th>1</th>\n",
       "      <td>Produsen Laptop Nasional Menargetkan Peningkat...</td>\n",
       "      <td>https://www.itworks.id/71793/produsen-laptop-n...</td>\n",
       "      <td>Itworks.id</td>\n",
       "      <td>7 hari yang lalu —</td>\n",
       "    </tr>\n",
       "    <tr>\n",
       "      <th>2</th>\n",
       "      <td>TREND Kerja Hybrid Jadi Optimisme Penjualan La...</td>\n",
       "      <td>https://bali.tribunnews.com/2025/01/14/trend-k...</td>\n",
       "      <td>Tribun-bali.com</td>\n",
       "      <td>7 hari yang lalu —</td>\n",
       "    </tr>\n",
       "    <tr>\n",
       "      <th>3</th>\n",
       "      <td>Tera Data Indonusa (AXIO) Targetkan Penjualan ...</td>\n",
       "      <td>https://industri.kontan.co.id/news/tera-data-i...</td>\n",
       "      <td>kontan.co.id</td>\n",
       "      <td>7 hari yang lalu —</td>\n",
       "    </tr>\n",
       "    <tr>\n",
       "      <th>4</th>\n",
       "      <td>Begini Prediksi Tren Penjualan Barang Elektron...</td>\n",
       "      <td>https://inet.detik.com/business/d-7693530/begi...</td>\n",
       "      <td>detikInet</td>\n",
       "      <td>19 Des 2024 —</td>\n",
       "    </tr>\n",
       "    <tr>\n",
       "      <th>5</th>\n",
       "      <td>Apa saja yang baru saat membeli laptop di tahu...</td>\n",
       "      <td>https://translate.google.com/translate?u=https...</td>\n",
       "      <td>PCWorld</td>\n",
       "      <td>2 Jan 2025 —</td>\n",
       "    </tr>\n",
       "    <tr>\n",
       "      <th>6</th>\n",
       "      <td>Laptop Ini Diklaim Tahan 32 Jam Pemakaian, Mel...</td>\n",
       "      <td>https://tekno.kompas.com/read/2024/12/26/11010...</td>\n",
       "      <td>Kompas.com</td>\n",
       "      <td>26 Des 2024 —</td>\n",
       "    </tr>\n",
       "    <tr>\n",
       "      <th>7</th>\n",
       "      <td>Axioo Targetkan Peningkatan Penjualan Laptop 7...</td>\n",
       "      <td>https://jagatbisnis.com/2025/01/15/axioo-targe...</td>\n",
       "      <td>JagatBisnis.com</td>\n",
       "      <td>6 hari yang lalu —</td>\n",
       "    </tr>\n",
       "    <tr>\n",
       "      <th>8</th>\n",
       "      <td>Laporan Pasar Laptop Rekondisi 2025</td>\n",
       "      <td>https://translate.google.com/translate?u=https...</td>\n",
       "      <td>The Business Research Company</td>\n",
       "      <td>None</td>\n",
       "    </tr>\n",
       "  </tbody>\n",
       "</table>\n",
       "</div>"
      ],
      "text/plain": [
       "                                               Title  \\\n",
       "0                     Laporan Prospek PC/Laptop 2025   \n",
       "1  Produsen Laptop Nasional Menargetkan Peningkat...   \n",
       "2  TREND Kerja Hybrid Jadi Optimisme Penjualan La...   \n",
       "3  Tera Data Indonusa (AXIO) Targetkan Penjualan ...   \n",
       "4  Begini Prediksi Tren Penjualan Barang Elektron...   \n",
       "5  Apa saja yang baru saat membeli laptop di tahu...   \n",
       "6  Laptop Ini Diklaim Tahan 32 Jam Pemakaian, Mel...   \n",
       "7  Axioo Targetkan Peningkatan Penjualan Laptop 7...   \n",
       "8                Laporan Pasar Laptop Rekondisi 2025   \n",
       "\n",
       "                                                Link  \\\n",
       "0  https://translate.google.com/translate?u=https...   \n",
       "1  https://www.itworks.id/71793/produsen-laptop-n...   \n",
       "2  https://bali.tribunnews.com/2025/01/14/trend-k...   \n",
       "3  https://industri.kontan.co.id/news/tera-data-i...   \n",
       "4  https://inet.detik.com/business/d-7693530/begi...   \n",
       "5  https://translate.google.com/translate?u=https...   \n",
       "6  https://tekno.kompas.com/read/2024/12/26/11010...   \n",
       "7  https://jagatbisnis.com/2025/01/15/axioo-targe...   \n",
       "8  https://translate.google.com/translate?u=https...   \n",
       "\n",
       "                          Source           Timestamp  \n",
       "0                   TechInsights                None  \n",
       "1                     Itworks.id  7 hari yang lalu —  \n",
       "2                Tribun-bali.com  7 hari yang lalu —  \n",
       "3                   kontan.co.id  7 hari yang lalu —  \n",
       "4                      detikInet       19 Des 2024 —  \n",
       "5                        PCWorld        2 Jan 2025 —  \n",
       "6                     Kompas.com       26 Des 2024 —  \n",
       "7                JagatBisnis.com  6 hari yang lalu —  \n",
       "8  The Business Research Company                None  "
      ]
     },
     "execution_count": 63,
     "metadata": {},
     "output_type": "execute_result"
    }
   ],
   "source": [
    "data = pd.DataFrame({\n",
    "    \"Title\": titles,\n",
    "    \"Link\": links,\n",
    "    \"Source\": sources,\n",
    "    \"Timestamp\": timestamps\n",
    "})\n",
    "data"
   ]
  },
  {
   "cell_type": "markdown",
   "metadata": {},
   "source": [
    "### GEN AI (Google AI studio)"
   ]
  },
  {
   "cell_type": "code",
   "execution_count": 18,
   "metadata": {},
   "outputs": [],
   "source": [
    "# pip install ipywidgets --upgrade\n"
   ]
  },
  {
   "cell_type": "code",
   "execution_count": 39,
   "metadata": {},
   "outputs": [],
   "source": []
  },
  {
   "cell_type": "code",
   "execution_count": 64,
   "metadata": {},
   "outputs": [],
   "source": [
    "import os\n",
    "from dotenv import load_dotenv"
   ]
  },
  {
   "cell_type": "code",
   "execution_count": 65,
   "metadata": {},
   "outputs": [],
   "source": [
    "import pathlib\n",
    "import textwrap\n",
    "\n",
    "import google.generativeai as genai\n",
    "\n",
    "from IPython.display import display\n",
    "from IPython.display import Markdown\n",
    "\n",
    "def to_markdown(text):\n",
    "  text = text.replace('•', '  *')\n",
    "  return Markdown(textwrap.indent(text, '> ', predicate=lambda _: True))"
   ]
  },
  {
   "cell_type": "code",
   "execution_count": 66,
   "metadata": {},
   "outputs": [],
   "source": [
    "from dotenv import load_dotenv\n",
    "import os\n",
    "import google.generativeai as genai\n",
    "\n",
    "# Load .env file\n",
    "load_dotenv()\n",
    "\n",
    "# Ambil API key dari .env\n",
    "api_key = os.getenv(\"API_KEY\")\n",
    "\n",
    "# Konfigurasikan genai dengan API key\n",
    "genai.configure(api_key=api_key)"
   ]
  },
  {
   "cell_type": "code",
   "execution_count": 67,
   "metadata": {},
   "outputs": [
    {
     "name": "stdout",
     "output_type": "stream",
     "text": [
      "models/gemini-1.0-pro-latest\n",
      "models/gemini-1.0-pro\n",
      "models/gemini-pro\n",
      "models/gemini-1.0-pro-001\n",
      "models/gemini-1.0-pro-vision-latest\n",
      "models/gemini-pro-vision\n",
      "models/gemini-1.5-pro-latest\n",
      "models/gemini-1.5-pro-001\n",
      "models/gemini-1.5-pro-002\n",
      "models/gemini-1.5-pro\n",
      "models/gemini-1.5-pro-exp-0801\n",
      "models/gemini-1.5-pro-exp-0827\n",
      "models/gemini-1.5-flash-latest\n",
      "models/gemini-1.5-flash-001\n",
      "models/gemini-1.5-flash-001-tuning\n",
      "models/gemini-1.5-flash\n",
      "models/gemini-1.5-flash-exp-0827\n",
      "models/gemini-1.5-flash-002\n",
      "models/gemini-1.5-flash-8b\n",
      "models/gemini-1.5-flash-8b-001\n",
      "models/gemini-1.5-flash-8b-latest\n",
      "models/gemini-1.5-flash-8b-exp-0827\n",
      "models/gemini-1.5-flash-8b-exp-0924\n",
      "models/gemini-2.0-flash-exp\n",
      "models/gemini-exp-1206\n",
      "models/gemini-exp-1121\n",
      "models/gemini-exp-1114\n",
      "models/gemini-2.0-flash-thinking-exp\n",
      "models/gemini-2.0-flash-thinking-exp-1219\n",
      "models/learnlm-1.5-pro-experimental\n"
     ]
    }
   ],
   "source": [
    "for m in genai.list_models():\n",
    "  if 'generateContent' in m.supported_generation_methods:\n",
    "    print(m.name)"
   ]
  },
  {
   "cell_type": "code",
   "execution_count": 68,
   "metadata": {},
   "outputs": [],
   "source": [
    "model = genai.GenerativeModel('gemini-1.5-flash')"
   ]
  },
  {
   "cell_type": "markdown",
   "metadata": {},
   "source": [
    "#### Test"
   ]
  },
  {
   "cell_type": "code",
   "execution_count": 69,
   "metadata": {},
   "outputs": [
    {
     "name": "stdout",
     "output_type": "stream",
     "text": [
      "CPU times: total: 0 ns\n",
      "Wall time: 3.64 s\n"
     ]
    }
   ],
   "source": [
    "%%time\n",
    "response = model.generate_content(\"What is the meaning of life?\")"
   ]
  },
  {
   "cell_type": "code",
   "execution_count": 70,
   "metadata": {},
   "outputs": [
    {
     "data": {
      "text/markdown": [
       "> There's no single, universally accepted answer to the meaning of life.  It's a question that has been pondered by philosophers, theologians, and individuals for millennia.  The meaning of life is often considered to be subjective and personal, varying greatly depending on individual beliefs, values, and experiences.\n",
       "> \n",
       "> Some common perspectives include:\n",
       "> \n",
       "> * **Nihilism:** The belief that life is inherently meaningless.\n",
       "> * **Existentialism:** The belief that individuals create their own meaning and purpose through their choices and actions.\n",
       "> * **Absurdism:** The belief that the search for meaning in a meaningless universe is inherently absurd, but that we should embrace this absurdity.\n",
       "> * **Hedonism:** The belief that pleasure and happiness are the ultimate goals of life.\n",
       "> * **Spiritual/Religious Beliefs:** Many religions offer answers about the meaning of life, often involving serving a higher power, following divine commandments, and achieving spiritual enlightenment or salvation.\n",
       "> * **Humanism:**  Focuses on human values and reason, emphasizing ethics, compassion, and social justice as sources of meaning.\n",
       "> * **Purpose-driven life:** Finding meaning through contributing to something larger than oneself, such as a cause, community, or family.\n",
       "> \n",
       "> Ultimately, the meaning of life is what you make it.  It's a question of personal exploration and discovery.  Instead of searching for a definitive answer, consider what brings you joy, fulfillment, and a sense of purpose.  What impact do you want to have on the world?  What values guide your actions?  These are all questions that can help you define your own meaning of life.\n"
      ],
      "text/plain": [
       "<IPython.core.display.Markdown object>"
      ]
     },
     "execution_count": 70,
     "metadata": {},
     "output_type": "execute_result"
    }
   ],
   "source": [
    "to_markdown(response.text)"
   ]
  },
  {
   "cell_type": "code",
   "execution_count": 71,
   "metadata": {},
   "outputs": [
    {
     "data": {
      "text/plain": []
     },
     "execution_count": 71,
     "metadata": {},
     "output_type": "execute_result"
    }
   ],
   "source": [
    "response.prompt_feedback"
   ]
  },
  {
   "cell_type": "code",
   "execution_count": 72,
   "metadata": {},
   "outputs": [],
   "source": [
    "response = model.generate_content(\"rangkum informasi yang ada pada tautan ini. https://www.jagatreview.com/2025/01/nvidia-luncurkan-nim-microservices/\")"
   ]
  },
  {
   "cell_type": "code",
   "execution_count": 73,
   "metadata": {},
   "outputs": [
    {
     "data": {
      "text/markdown": [
       "> Artikel di Jagat Review tersebut membahas peluncuran **NVIDIA NIM (NVIDIA Inference Microservices)**.  NIM merupakan platform _microservices_ yang dirancang untuk mempermudah penyebaran dan pengelolaan model inferensi AI di berbagai _hardware_ NVIDIA.  Keunggulannya terletak pada kemampuannya untuk menyederhanakan proses deployment, monitoring, dan scaling model AI, sehingga mengurangi kompleksitas dan waktu yang dibutuhkan.  Dengan NIM, pengembang dapat fokus pada pengembangan model AI, bukan pada infrastruktur yang rumit.  Platform ini juga menjanjikan peningkatan efisiensi dan skalabilitas dalam menjalankan inferensi AI.\n"
      ],
      "text/plain": [
       "<IPython.core.display.Markdown object>"
      ]
     },
     "execution_count": 73,
     "metadata": {},
     "output_type": "execute_result"
    }
   ],
   "source": [
    "to_markdown(response.text)"
   ]
  },
  {
   "cell_type": "code",
   "execution_count": 76,
   "metadata": {},
   "outputs": [
    {
     "name": "stdout",
     "output_type": "stream",
     "text": [
      "URL Asli: https://www-techinsights-com.translate.goog/blog/2025-pclaptop-outlook-report?_x_tr_sl=en&_x_tr_tl=id&_x_tr_hl=id&_x_tr_pto=tc\n"
     ]
    }
   ],
   "source": [
    "from urllib.parse import urlparse, parse_qs\n",
    "\n",
    "def get_original_url(link):\n",
    "    \"\"\"\n",
    "    Mengembalikan URL asli dari URL Google Translate.\n",
    "    Jika bukan URL Google Translate, kembalikan URL tanpa perubahan.\n",
    "    \"\"\"\n",
    "    parsed_url = urlparse(link)\n",
    "    # Periksa apakah URL berasal dari Google Translate\n",
    "    if 'translate.google.com' in parsed_url.netloc or '_x_tr_' in parsed_url.query:\n",
    "        query_params = parse_qs(parsed_url.query)\n",
    "        # Ambil parameter 'u' sebagai URL asli\n",
    "        return query_params.get('u', [link])[0]\n",
    "    return link\n",
    "\n",
    "# # Contoh penggunaan\n",
    "# translated_url = \"https://www-techinsights-com.translate.goog/blog/2025-pclaptop-outlook-report?_x_tr_sl=en&_x_tr_tl=id&_x_tr_hl=id&_x_tr_pto=tc\"\n",
    "# original_url = get_original_url(translated_url)\n",
    "\n",
    "# print(\"URL Asli:\", original_url)\n"
   ]
  },
  {
   "cell_type": "markdown",
   "metadata": {},
   "source": [
    "### Sumarize Article"
   ]
  },
  {
   "cell_type": "code",
   "execution_count": 82,
   "metadata": {},
   "outputs": [],
   "source": [
    "from urllib.parse import urlparse, parse_qs\n",
    "\n",
    "# Fungsi untuk mendapatkan URL asli dari Google Translate\n",
    "def get_original_url(link):\n",
    "    \"\"\"\n",
    "    Mengembalikan URL asli dari URL Google Translate.\n",
    "    Jika bukan URL Google Translate, kembalikan URL tanpa perubahan.\n",
    "    \"\"\"\n",
    "    parsed_url = urlparse(link)\n",
    "    # Periksa apakah URL berasal dari Google Translate\n",
    "    if 'translate.google.com' in parsed_url.netloc or '_x_tr_' in parsed_url.query:\n",
    "        query_params = parse_qs(parsed_url.query)\n",
    "        # Ambil parameter 'u' sebagai URL asli\n",
    "        return query_params.get('u', [link])[0]\n",
    "    return link\n",
    "\n",
    "# Fungsi untuk merangkum artikel\n",
    "def summarize_article(link):\n",
    "    try:\n",
    "        # Dapatkan URL asli\n",
    "        original_link = get_original_url(link)\n",
    "        \n",
    "        # Proses rangkuman menggunakan model AI\n",
    "        response = model.generate_content(f\"Rankum informasi yang ada pada link berikut: {original_link}\")\n",
    "        return response.text\n",
    "    except Exception as e:\n",
    "        return str(e)\n"
   ]
  },
  {
   "cell_type": "code",
   "execution_count": 83,
   "metadata": {},
   "outputs": [
    {
     "data": {
      "text/html": [
       "<div>\n",
       "<style scoped>\n",
       "    .dataframe tbody tr th:only-of-type {\n",
       "        vertical-align: middle;\n",
       "    }\n",
       "\n",
       "    .dataframe tbody tr th {\n",
       "        vertical-align: top;\n",
       "    }\n",
       "\n",
       "    .dataframe thead th {\n",
       "        text-align: right;\n",
       "    }\n",
       "</style>\n",
       "<table border=\"1\" class=\"dataframe\">\n",
       "  <thead>\n",
       "    <tr style=\"text-align: right;\">\n",
       "      <th></th>\n",
       "      <th>Title</th>\n",
       "      <th>Link</th>\n",
       "      <th>Source</th>\n",
       "      <th>Timestamp</th>\n",
       "      <th>Summary</th>\n",
       "      <th>Article_Summary</th>\n",
       "    </tr>\n",
       "  </thead>\n",
       "  <tbody>\n",
       "    <tr>\n",
       "      <th>0</th>\n",
       "      <td>Laporan Prospek PC/Laptop 2025</td>\n",
       "      <td>https://translate.google.com/translate?u=https...</td>\n",
       "      <td>TechInsights</td>\n",
       "      <td>None</td>\n",
       "      <td>Laporan TechInsights \"2025 PC Laptop Outlook\" ...</td>\n",
       "      <td>Laporan TechInsights \"2025 PC Laptop Outlook\" ...</td>\n",
       "    </tr>\n",
       "    <tr>\n",
       "      <th>1</th>\n",
       "      <td>Produsen Laptop Nasional Menargetkan Peningkat...</td>\n",
       "      <td>https://www.itworks.id/71793/produsen-laptop-n...</td>\n",
       "      <td>Itworks.id</td>\n",
       "      <td>7 hari yang lalu —</td>\n",
       "      <td>Artikel tersebut membahas target peningkatan p...</td>\n",
       "      <td>Artikel tersebut membahas tentang target penin...</td>\n",
       "    </tr>\n",
       "    <tr>\n",
       "      <th>2</th>\n",
       "      <td>TREND Kerja Hybrid Jadi Optimisme Penjualan La...</td>\n",
       "      <td>https://bali.tribunnews.com/2025/01/14/trend-k...</td>\n",
       "      <td>Tribun-bali.com</td>\n",
       "      <td>7 hari yang lalu —</td>\n",
       "      <td>Artikel tersebut membahas tren kerja hybrid di...</td>\n",
       "      <td>Artikel tersebut membahas tren kerja hibrida d...</td>\n",
       "    </tr>\n",
       "    <tr>\n",
       "      <th>3</th>\n",
       "      <td>Tera Data Indonusa (AXIO) Targetkan Penjualan ...</td>\n",
       "      <td>https://industri.kontan.co.id/news/tera-data-i...</td>\n",
       "      <td>kontan.co.id</td>\n",
       "      <td>7 hari yang lalu —</td>\n",
       "      <td>Artikel tersebut membahas proyeksi pertumbuhan...</td>\n",
       "      <td>Artikel di link tersebut membahas target pertu...</td>\n",
       "    </tr>\n",
       "    <tr>\n",
       "      <th>4</th>\n",
       "      <td>Begini Prediksi Tren Penjualan Barang Elektron...</td>\n",
       "      <td>https://inet.detik.com/business/d-7693530/begi...</td>\n",
       "      <td>detikInet</td>\n",
       "      <td>19 Des 2024 —</td>\n",
       "      <td>Artikel di link tersebut memprediksi tren penj...</td>\n",
       "      <td>Artikel berita di link tersebut memprediksi tr...</td>\n",
       "    </tr>\n",
       "    <tr>\n",
       "      <th>5</th>\n",
       "      <td>Apa saja yang baru saat membeli laptop di tahu...</td>\n",
       "      <td>https://translate.google.com/translate?u=https...</td>\n",
       "      <td>PCWorld</td>\n",
       "      <td>2 Jan 2025 —</td>\n",
       "      <td>Artikel di PCWorld membahas 8 hal yang perlu d...</td>\n",
       "      <td>Artikel PCWorld \"What's New When Shopping for ...</td>\n",
       "    </tr>\n",
       "    <tr>\n",
       "      <th>6</th>\n",
       "      <td>Laptop Ini Diklaim Tahan 32 Jam Pemakaian, Mel...</td>\n",
       "      <td>https://tekno.kompas.com/read/2024/12/26/11010...</td>\n",
       "      <td>Kompas.com</td>\n",
       "      <td>26 Des 2024 —</td>\n",
       "      <td>Artikel tersebut membahas tentang laptop Acer ...</td>\n",
       "      <td>Artikel di link tersebut membahas tentang lapt...</td>\n",
       "    </tr>\n",
       "    <tr>\n",
       "      <th>7</th>\n",
       "      <td>Axioo Targetkan Peningkatan Penjualan Laptop 7...</td>\n",
       "      <td>https://jagatbisnis.com/2025/01/15/axioo-targe...</td>\n",
       "      <td>JagatBisnis.com</td>\n",
       "      <td>6 hari yang lalu —</td>\n",
       "      <td>Artikel dari Jagat Bisnis tersebut membahas ta...</td>\n",
       "      <td>Artikel dari Jagat Bisnis tersebut melaporkan ...</td>\n",
       "    </tr>\n",
       "    <tr>\n",
       "      <th>8</th>\n",
       "      <td>Laporan Pasar Laptop Rekondisi 2025</td>\n",
       "      <td>https://translate.google.com/translate?u=https...</td>\n",
       "      <td>The Business Research Company</td>\n",
       "      <td>None</td>\n",
       "      <td>Saya tidak dapat mengakses internet untuk meng...</td>\n",
       "      <td>Saya tidak dapat mengakses URL yang Anda berik...</td>\n",
       "    </tr>\n",
       "  </tbody>\n",
       "</table>\n",
       "</div>"
      ],
      "text/plain": [
       "                                               Title  \\\n",
       "0                     Laporan Prospek PC/Laptop 2025   \n",
       "1  Produsen Laptop Nasional Menargetkan Peningkat...   \n",
       "2  TREND Kerja Hybrid Jadi Optimisme Penjualan La...   \n",
       "3  Tera Data Indonusa (AXIO) Targetkan Penjualan ...   \n",
       "4  Begini Prediksi Tren Penjualan Barang Elektron...   \n",
       "5  Apa saja yang baru saat membeli laptop di tahu...   \n",
       "6  Laptop Ini Diklaim Tahan 32 Jam Pemakaian, Mel...   \n",
       "7  Axioo Targetkan Peningkatan Penjualan Laptop 7...   \n",
       "8                Laporan Pasar Laptop Rekondisi 2025   \n",
       "\n",
       "                                                Link  \\\n",
       "0  https://translate.google.com/translate?u=https...   \n",
       "1  https://www.itworks.id/71793/produsen-laptop-n...   \n",
       "2  https://bali.tribunnews.com/2025/01/14/trend-k...   \n",
       "3  https://industri.kontan.co.id/news/tera-data-i...   \n",
       "4  https://inet.detik.com/business/d-7693530/begi...   \n",
       "5  https://translate.google.com/translate?u=https...   \n",
       "6  https://tekno.kompas.com/read/2024/12/26/11010...   \n",
       "7  https://jagatbisnis.com/2025/01/15/axioo-targe...   \n",
       "8  https://translate.google.com/translate?u=https...   \n",
       "\n",
       "                          Source           Timestamp  \\\n",
       "0                   TechInsights                None   \n",
       "1                     Itworks.id  7 hari yang lalu —   \n",
       "2                Tribun-bali.com  7 hari yang lalu —   \n",
       "3                   kontan.co.id  7 hari yang lalu —   \n",
       "4                      detikInet       19 Des 2024 —   \n",
       "5                        PCWorld        2 Jan 2025 —   \n",
       "6                     Kompas.com       26 Des 2024 —   \n",
       "7                JagatBisnis.com  6 hari yang lalu —   \n",
       "8  The Business Research Company                None   \n",
       "\n",
       "                                             Summary  \\\n",
       "0  Laporan TechInsights \"2025 PC Laptop Outlook\" ...   \n",
       "1  Artikel tersebut membahas target peningkatan p...   \n",
       "2  Artikel tersebut membahas tren kerja hybrid di...   \n",
       "3  Artikel tersebut membahas proyeksi pertumbuhan...   \n",
       "4  Artikel di link tersebut memprediksi tren penj...   \n",
       "5  Artikel di PCWorld membahas 8 hal yang perlu d...   \n",
       "6  Artikel tersebut membahas tentang laptop Acer ...   \n",
       "7  Artikel dari Jagat Bisnis tersebut membahas ta...   \n",
       "8  Saya tidak dapat mengakses internet untuk meng...   \n",
       "\n",
       "                                     Article_Summary  \n",
       "0  Laporan TechInsights \"2025 PC Laptop Outlook\" ...  \n",
       "1  Artikel tersebut membahas tentang target penin...  \n",
       "2  Artikel tersebut membahas tren kerja hibrida d...  \n",
       "3  Artikel di link tersebut membahas target pertu...  \n",
       "4  Artikel berita di link tersebut memprediksi tr...  \n",
       "5  Artikel PCWorld \"What's New When Shopping for ...  \n",
       "6  Artikel di link tersebut membahas tentang lapt...  \n",
       "7  Artikel dari Jagat Bisnis tersebut melaporkan ...  \n",
       "8  Saya tidak dapat mengakses URL yang Anda berik...  "
      ]
     },
     "execution_count": 83,
     "metadata": {},
     "output_type": "execute_result"
    }
   ],
   "source": [
    "# # Function to summarize article\n",
    "# def summarize_article(link):\n",
    "#     try:\n",
    "#         response = model.generate_content(f\"Rankum informasi yang ada pada link berikut: {link}\")\n",
    "#         return response.text\n",
    "#     except Exception as e:\n",
    "#         return str(e)\n",
    "\n",
    "\n",
    "# Apply the function to each link in the dataframe\n",
    "data['Summary'] = data['Link'].apply(summarize_article)\n",
    "\n",
    "data"
   ]
  },
  {
   "cell_type": "code",
   "execution_count": 85,
   "metadata": {},
   "outputs": [],
   "source": [
    "data.to_csv('google_news.csv', index=False, sep=\"|\")"
   ]
  }
 ],
 "metadata": {
  "kernelspec": {
   "display_name": "Python 3",
   "language": "python",
   "name": "python3"
  },
  "language_info": {
   "codemirror_mode": {
    "name": "ipython",
    "version": 3
   },
   "file_extension": ".py",
   "mimetype": "text/x-python",
   "name": "python",
   "nbconvert_exporter": "python",
   "pygments_lexer": "ipython3",
   "version": "3.11.9"
  }
 },
 "nbformat": 4,
 "nbformat_minor": 2
}
